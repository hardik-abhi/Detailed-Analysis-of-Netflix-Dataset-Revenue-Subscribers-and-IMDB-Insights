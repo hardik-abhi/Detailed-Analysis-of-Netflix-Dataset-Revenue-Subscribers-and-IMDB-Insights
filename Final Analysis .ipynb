{
 "cells": [
  {
   "cell_type": "code",
   "execution_count": null,
   "metadata": {},
   "outputs": [],
   "source": [
    "# \"Unlocking the Binge-Watch Blueprint: Netflix Revenue, Subscribers, and IMDB Insights\"."
   ]
  },
  {
   "cell_type": "code",
   "execution_count": null,
   "metadata": {},
   "outputs": [],
   "source": [
    "# By Hardik Mudgal"
   ]
  },
  {
   "cell_type": "code",
   "execution_count": 22,
   "metadata": {},
   "outputs": [
    {
     "name": "stdout",
     "output_type": "stream",
     "text": [
      "Setup Complete\n"
     ]
    }
   ],
   "source": [
    "import pandas as pd\n",
    "pd.plotting.register_matplotlib_converters()\n",
    "import matplotlib.pyplot as plt\n",
    "%matplotlib inline\n",
    "import seaborn as sns\n",
    "import numpy as np\n",
    "print(\"Setup Complete\")"
   ]
  },
  {
   "cell_type": "code",
   "execution_count": 23,
   "metadata": {},
   "outputs": [
    {
     "data": {
      "text/html": [
       "<div>\n",
       "<style scoped>\n",
       "    .dataframe tbody tr th:only-of-type {\n",
       "        vertical-align: middle;\n",
       "    }\n",
       "\n",
       "    .dataframe tbody tr th {\n",
       "        vertical-align: top;\n",
       "    }\n",
       "\n",
       "    .dataframe thead th {\n",
       "        text-align: right;\n",
       "    }\n",
       "</style>\n",
       "<table border=\"1\" class=\"dataframe\">\n",
       "  <thead>\n",
       "    <tr style=\"text-align: right;\">\n",
       "      <th></th>\n",
       "      <th>show_id</th>\n",
       "      <th>type</th>\n",
       "      <th>director</th>\n",
       "      <th>cast</th>\n",
       "      <th>country</th>\n",
       "      <th>date_added</th>\n",
       "      <th>release_year</th>\n",
       "      <th>rating</th>\n",
       "      <th>listed_in</th>\n",
       "      <th>description</th>\n",
       "    </tr>\n",
       "    <tr>\n",
       "      <th>title</th>\n",
       "      <th></th>\n",
       "      <th></th>\n",
       "      <th></th>\n",
       "      <th></th>\n",
       "      <th></th>\n",
       "      <th></th>\n",
       "      <th></th>\n",
       "      <th></th>\n",
       "      <th></th>\n",
       "      <th></th>\n",
       "    </tr>\n",
       "  </thead>\n",
       "  <tbody>\n",
       "    <tr>\n",
       "      <td>Norm of the North: King Sized Adventure</td>\n",
       "      <td>81145628</td>\n",
       "      <td>Movie</td>\n",
       "      <td>Richard Finn, Tim Maltby</td>\n",
       "      <td>Alan Marriott, Andrew Toth, Brian Dobson, Cole...</td>\n",
       "      <td>United States, India, South Korea, China</td>\n",
       "      <td>September 9, 2019</td>\n",
       "      <td>2019</td>\n",
       "      <td>TV-PG</td>\n",
       "      <td>Children &amp; Family Movies, Comedies</td>\n",
       "      <td>Before planning an awesome wedding for his gra...</td>\n",
       "    </tr>\n",
       "    <tr>\n",
       "      <td>Jandino: Whatever it Takes</td>\n",
       "      <td>80117401</td>\n",
       "      <td>Movie</td>\n",
       "      <td>NaN</td>\n",
       "      <td>Jandino Asporaat</td>\n",
       "      <td>United Kingdom</td>\n",
       "      <td>September 9, 2016</td>\n",
       "      <td>2016</td>\n",
       "      <td>TV-MA</td>\n",
       "      <td>Stand-Up Comedy</td>\n",
       "      <td>Jandino Asporaat riffs on the challenges of ra...</td>\n",
       "    </tr>\n",
       "    <tr>\n",
       "      <td>Transformers Prime</td>\n",
       "      <td>70234439</td>\n",
       "      <td>TV Show</td>\n",
       "      <td>NaN</td>\n",
       "      <td>Peter Cullen, Sumalee Montano, Frank Welker, J...</td>\n",
       "      <td>United States</td>\n",
       "      <td>September 8, 2018</td>\n",
       "      <td>2013</td>\n",
       "      <td>TV-Y7-FV</td>\n",
       "      <td>Kids' TV</td>\n",
       "      <td>With the help of three human allies, the Autob...</td>\n",
       "    </tr>\n",
       "    <tr>\n",
       "      <td>Transformers: Robots in Disguise</td>\n",
       "      <td>80058654</td>\n",
       "      <td>TV Show</td>\n",
       "      <td>NaN</td>\n",
       "      <td>Will Friedle, Darren Criss, Constance Zimmer, ...</td>\n",
       "      <td>United States</td>\n",
       "      <td>September 8, 2018</td>\n",
       "      <td>2016</td>\n",
       "      <td>TV-Y7</td>\n",
       "      <td>Kids' TV</td>\n",
       "      <td>When a prison ship crash unleashes hundreds of...</td>\n",
       "    </tr>\n",
       "    <tr>\n",
       "      <td>#realityhigh</td>\n",
       "      <td>80125979</td>\n",
       "      <td>Movie</td>\n",
       "      <td>Fernando Lebrija</td>\n",
       "      <td>Nesta Cooper, Kate Walsh, John Michael Higgins...</td>\n",
       "      <td>United States</td>\n",
       "      <td>September 8, 2017</td>\n",
       "      <td>2017</td>\n",
       "      <td>TV-14</td>\n",
       "      <td>Comedies</td>\n",
       "      <td>When nerdy high schooler Dani finally attracts...</td>\n",
       "    </tr>\n",
       "    <tr>\n",
       "      <td>...</td>\n",
       "      <td>...</td>\n",
       "      <td>...</td>\n",
       "      <td>...</td>\n",
       "      <td>...</td>\n",
       "      <td>...</td>\n",
       "      <td>...</td>\n",
       "      <td>...</td>\n",
       "      <td>...</td>\n",
       "      <td>...</td>\n",
       "      <td>...</td>\n",
       "    </tr>\n",
       "    <tr>\n",
       "      <td>Red vs. Blue</td>\n",
       "      <td>80000063</td>\n",
       "      <td>TV Show</td>\n",
       "      <td>NaN</td>\n",
       "      <td>Burnie Burns, Jason Saldaña, Gustavo Sorola, G...</td>\n",
       "      <td>United States</td>\n",
       "      <td>NaN</td>\n",
       "      <td>2015</td>\n",
       "      <td>NR</td>\n",
       "      <td>TV Action &amp; Adventure, TV Comedies, TV Sci-Fi ...</td>\n",
       "      <td>This parody of first-person shooter games, mil...</td>\n",
       "    </tr>\n",
       "    <tr>\n",
       "      <td>Maron</td>\n",
       "      <td>70286564</td>\n",
       "      <td>TV Show</td>\n",
       "      <td>NaN</td>\n",
       "      <td>Marc Maron, Judd Hirsch, Josh Brener, Nora Zeh...</td>\n",
       "      <td>United States</td>\n",
       "      <td>NaN</td>\n",
       "      <td>2016</td>\n",
       "      <td>TV-MA</td>\n",
       "      <td>TV Comedies</td>\n",
       "      <td>Marc Maron stars as Marc Maron, who interviews...</td>\n",
       "    </tr>\n",
       "    <tr>\n",
       "      <td>Little Baby Bum: Nursery Rhyme Friends</td>\n",
       "      <td>80116008</td>\n",
       "      <td>Movie</td>\n",
       "      <td>NaN</td>\n",
       "      <td>NaN</td>\n",
       "      <td>NaN</td>\n",
       "      <td>NaN</td>\n",
       "      <td>2016</td>\n",
       "      <td>NaN</td>\n",
       "      <td>Movies</td>\n",
       "      <td>Nursery rhymes and original music for children...</td>\n",
       "    </tr>\n",
       "    <tr>\n",
       "      <td>A Young Doctor's Notebook and Other Stories</td>\n",
       "      <td>70281022</td>\n",
       "      <td>TV Show</td>\n",
       "      <td>NaN</td>\n",
       "      <td>Daniel Radcliffe, Jon Hamm, Adam Godley, Chris...</td>\n",
       "      <td>United Kingdom</td>\n",
       "      <td>NaN</td>\n",
       "      <td>2013</td>\n",
       "      <td>TV-MA</td>\n",
       "      <td>British TV Shows, TV Comedies, TV Dramas</td>\n",
       "      <td>Set during the Russian Revolution, this comic ...</td>\n",
       "    </tr>\n",
       "    <tr>\n",
       "      <td>Friends</td>\n",
       "      <td>70153404</td>\n",
       "      <td>TV Show</td>\n",
       "      <td>NaN</td>\n",
       "      <td>Jennifer Aniston, Courteney Cox, Lisa Kudrow, ...</td>\n",
       "      <td>United States</td>\n",
       "      <td>NaN</td>\n",
       "      <td>2003</td>\n",
       "      <td>TV-14</td>\n",
       "      <td>Classic &amp; Cult TV, TV Comedies</td>\n",
       "      <td>This hit sitcom follows the merry misadventure...</td>\n",
       "    </tr>\n",
       "  </tbody>\n",
       "</table>\n",
       "<p>6234 rows × 10 columns</p>\n",
       "</div>"
      ],
      "text/plain": [
       "                                              show_id     type  \\\n",
       "title                                                            \n",
       "Norm of the North: King Sized Adventure      81145628    Movie   \n",
       "Jandino: Whatever it Takes                   80117401    Movie   \n",
       "Transformers Prime                           70234439  TV Show   \n",
       "Transformers: Robots in Disguise             80058654  TV Show   \n",
       "#realityhigh                                 80125979    Movie   \n",
       "...                                               ...      ...   \n",
       "Red vs. Blue                                 80000063  TV Show   \n",
       "Maron                                        70286564  TV Show   \n",
       "Little Baby Bum: Nursery Rhyme Friends       80116008    Movie   \n",
       "A Young Doctor's Notebook and Other Stories  70281022  TV Show   \n",
       "Friends                                      70153404  TV Show   \n",
       "\n",
       "                                                             director  \\\n",
       "title                                                                   \n",
       "Norm of the North: King Sized Adventure      Richard Finn, Tim Maltby   \n",
       "Jandino: Whatever it Takes                                        NaN   \n",
       "Transformers Prime                                                NaN   \n",
       "Transformers: Robots in Disguise                                  NaN   \n",
       "#realityhigh                                         Fernando Lebrija   \n",
       "...                                                               ...   \n",
       "Red vs. Blue                                                      NaN   \n",
       "Maron                                                             NaN   \n",
       "Little Baby Bum: Nursery Rhyme Friends                            NaN   \n",
       "A Young Doctor's Notebook and Other Stories                       NaN   \n",
       "Friends                                                           NaN   \n",
       "\n",
       "                                                                                          cast  \\\n",
       "title                                                                                            \n",
       "Norm of the North: King Sized Adventure      Alan Marriott, Andrew Toth, Brian Dobson, Cole...   \n",
       "Jandino: Whatever it Takes                                                    Jandino Asporaat   \n",
       "Transformers Prime                           Peter Cullen, Sumalee Montano, Frank Welker, J...   \n",
       "Transformers: Robots in Disguise             Will Friedle, Darren Criss, Constance Zimmer, ...   \n",
       "#realityhigh                                 Nesta Cooper, Kate Walsh, John Michael Higgins...   \n",
       "...                                                                                        ...   \n",
       "Red vs. Blue                                 Burnie Burns, Jason Saldaña, Gustavo Sorola, G...   \n",
       "Maron                                        Marc Maron, Judd Hirsch, Josh Brener, Nora Zeh...   \n",
       "Little Baby Bum: Nursery Rhyme Friends                                                     NaN   \n",
       "A Young Doctor's Notebook and Other Stories  Daniel Radcliffe, Jon Hamm, Adam Godley, Chris...   \n",
       "Friends                                      Jennifer Aniston, Courteney Cox, Lisa Kudrow, ...   \n",
       "\n",
       "                                                                              country  \\\n",
       "title                                                                                   \n",
       "Norm of the North: King Sized Adventure      United States, India, South Korea, China   \n",
       "Jandino: Whatever it Takes                                             United Kingdom   \n",
       "Transformers Prime                                                      United States   \n",
       "Transformers: Robots in Disguise                                        United States   \n",
       "#realityhigh                                                            United States   \n",
       "...                                                                               ...   \n",
       "Red vs. Blue                                                            United States   \n",
       "Maron                                                                   United States   \n",
       "Little Baby Bum: Nursery Rhyme Friends                                            NaN   \n",
       "A Young Doctor's Notebook and Other Stories                            United Kingdom   \n",
       "Friends                                                                 United States   \n",
       "\n",
       "                                                    date_added  release_year  \\\n",
       "title                                                                          \n",
       "Norm of the North: King Sized Adventure      September 9, 2019          2019   \n",
       "Jandino: Whatever it Takes                   September 9, 2016          2016   \n",
       "Transformers Prime                           September 8, 2018          2013   \n",
       "Transformers: Robots in Disguise             September 8, 2018          2016   \n",
       "#realityhigh                                 September 8, 2017          2017   \n",
       "...                                                        ...           ...   \n",
       "Red vs. Blue                                               NaN          2015   \n",
       "Maron                                                      NaN          2016   \n",
       "Little Baby Bum: Nursery Rhyme Friends                     NaN          2016   \n",
       "A Young Doctor's Notebook and Other Stories                NaN          2013   \n",
       "Friends                                                    NaN          2003   \n",
       "\n",
       "                                               rating  \\\n",
       "title                                                   \n",
       "Norm of the North: King Sized Adventure         TV-PG   \n",
       "Jandino: Whatever it Takes                      TV-MA   \n",
       "Transformers Prime                           TV-Y7-FV   \n",
       "Transformers: Robots in Disguise                TV-Y7   \n",
       "#realityhigh                                    TV-14   \n",
       "...                                               ...   \n",
       "Red vs. Blue                                       NR   \n",
       "Maron                                           TV-MA   \n",
       "Little Baby Bum: Nursery Rhyme Friends            NaN   \n",
       "A Young Doctor's Notebook and Other Stories     TV-MA   \n",
       "Friends                                         TV-14   \n",
       "\n",
       "                                                                                     listed_in  \\\n",
       "title                                                                                            \n",
       "Norm of the North: King Sized Adventure                     Children & Family Movies, Comedies   \n",
       "Jandino: Whatever it Takes                                                     Stand-Up Comedy   \n",
       "Transformers Prime                                                                    Kids' TV   \n",
       "Transformers: Robots in Disguise                                                      Kids' TV   \n",
       "#realityhigh                                                                          Comedies   \n",
       "...                                                                                        ...   \n",
       "Red vs. Blue                                 TV Action & Adventure, TV Comedies, TV Sci-Fi ...   \n",
       "Maron                                                                              TV Comedies   \n",
       "Little Baby Bum: Nursery Rhyme Friends                                                  Movies   \n",
       "A Young Doctor's Notebook and Other Stories           British TV Shows, TV Comedies, TV Dramas   \n",
       "Friends                                                         Classic & Cult TV, TV Comedies   \n",
       "\n",
       "                                                                                   description  \n",
       "title                                                                                           \n",
       "Norm of the North: King Sized Adventure      Before planning an awesome wedding for his gra...  \n",
       "Jandino: Whatever it Takes                   Jandino Asporaat riffs on the challenges of ra...  \n",
       "Transformers Prime                           With the help of three human allies, the Autob...  \n",
       "Transformers: Robots in Disguise             When a prison ship crash unleashes hundreds of...  \n",
       "#realityhigh                                 When nerdy high schooler Dani finally attracts...  \n",
       "...                                                                                        ...  \n",
       "Red vs. Blue                                 This parody of first-person shooter games, mil...  \n",
       "Maron                                        Marc Maron stars as Marc Maron, who interviews...  \n",
       "Little Baby Bum: Nursery Rhyme Friends       Nursery rhymes and original music for children...  \n",
       "A Young Doctor's Notebook and Other Stories  Set during the Russian Revolution, this comic ...  \n",
       "Friends                                      This hit sitcom follows the merry misadventure...  \n",
       "\n",
       "[6234 rows x 10 columns]"
      ]
     },
     "execution_count": 23,
     "metadata": {},
     "output_type": "execute_result"
    }
   ],
   "source": [
    "import plotly.graph_objects as go\n",
    "from plotly.offline import init_notebook_mode, iplot\n",
    "from collections import Counter\n",
    "sns.set_palette(sns.color_palette(\"muted\"))\n",
    "\n",
    "\n",
    "df = pd.read_csv(\"../Netflix data analysis/data/netflix_titles.csv\",index_col='title')\n",
    "df.drop(['duration'],axis=1)\n"
   ]
  },
  {
   "cell_type": "code",
   "execution_count": 24,
   "metadata": {},
   "outputs": [
    {
     "data": {
      "text/html": [
       "<div>\n",
       "<style scoped>\n",
       "    .dataframe tbody tr th:only-of-type {\n",
       "        vertical-align: middle;\n",
       "    }\n",
       "\n",
       "    .dataframe tbody tr th {\n",
       "        vertical-align: top;\n",
       "    }\n",
       "\n",
       "    .dataframe thead th {\n",
       "        text-align: right;\n",
       "    }\n",
       "</style>\n",
       "<table border=\"1\" class=\"dataframe\">\n",
       "  <thead>\n",
       "    <tr style=\"text-align: right;\">\n",
       "      <th></th>\n",
       "      <th>show_id</th>\n",
       "      <th>type</th>\n",
       "      <th>director</th>\n",
       "      <th>cast</th>\n",
       "      <th>country</th>\n",
       "      <th>date_added</th>\n",
       "      <th>release_year</th>\n",
       "      <th>rating</th>\n",
       "      <th>duration</th>\n",
       "      <th>listed_in</th>\n",
       "      <th>description</th>\n",
       "      <th>year_added</th>\n",
       "      <th>month_added</th>\n",
       "    </tr>\n",
       "    <tr>\n",
       "      <th>title</th>\n",
       "      <th></th>\n",
       "      <th></th>\n",
       "      <th></th>\n",
       "      <th></th>\n",
       "      <th></th>\n",
       "      <th></th>\n",
       "      <th></th>\n",
       "      <th></th>\n",
       "      <th></th>\n",
       "      <th></th>\n",
       "      <th></th>\n",
       "      <th></th>\n",
       "      <th></th>\n",
       "    </tr>\n",
       "  </thead>\n",
       "  <tbody>\n",
       "    <tr>\n",
       "      <td>Norm of the North: King Sized Adventure</td>\n",
       "      <td>81145628</td>\n",
       "      <td>Movie</td>\n",
       "      <td>Richard Finn, Tim Maltby</td>\n",
       "      <td>Alan Marriott, Andrew Toth, Brian Dobson, Cole...</td>\n",
       "      <td>United States, India, South Korea, China</td>\n",
       "      <td>2019-09-09</td>\n",
       "      <td>2019</td>\n",
       "      <td>TV-PG</td>\n",
       "      <td>90 min</td>\n",
       "      <td>Children &amp; Family Movies, Comedies</td>\n",
       "      <td>Before planning an awesome wedding for his gra...</td>\n",
       "      <td>2019.0</td>\n",
       "      <td>9.0</td>\n",
       "    </tr>\n",
       "    <tr>\n",
       "      <td>Jandino: Whatever it Takes</td>\n",
       "      <td>80117401</td>\n",
       "      <td>Movie</td>\n",
       "      <td>NaN</td>\n",
       "      <td>Jandino Asporaat</td>\n",
       "      <td>United Kingdom</td>\n",
       "      <td>2016-09-09</td>\n",
       "      <td>2016</td>\n",
       "      <td>TV-MA</td>\n",
       "      <td>94 min</td>\n",
       "      <td>Stand-Up Comedy</td>\n",
       "      <td>Jandino Asporaat riffs on the challenges of ra...</td>\n",
       "      <td>2016.0</td>\n",
       "      <td>9.0</td>\n",
       "    </tr>\n",
       "    <tr>\n",
       "      <td>Transformers Prime</td>\n",
       "      <td>70234439</td>\n",
       "      <td>TV Show</td>\n",
       "      <td>NaN</td>\n",
       "      <td>Peter Cullen, Sumalee Montano, Frank Welker, J...</td>\n",
       "      <td>United States</td>\n",
       "      <td>2018-09-08</td>\n",
       "      <td>2013</td>\n",
       "      <td>TV-Y7-FV</td>\n",
       "      <td>1 Season</td>\n",
       "      <td>Kids' TV</td>\n",
       "      <td>With the help of three human allies, the Autob...</td>\n",
       "      <td>2018.0</td>\n",
       "      <td>9.0</td>\n",
       "    </tr>\n",
       "    <tr>\n",
       "      <td>Transformers: Robots in Disguise</td>\n",
       "      <td>80058654</td>\n",
       "      <td>TV Show</td>\n",
       "      <td>NaN</td>\n",
       "      <td>Will Friedle, Darren Criss, Constance Zimmer, ...</td>\n",
       "      <td>United States</td>\n",
       "      <td>2018-09-08</td>\n",
       "      <td>2016</td>\n",
       "      <td>TV-Y7</td>\n",
       "      <td>1 Season</td>\n",
       "      <td>Kids' TV</td>\n",
       "      <td>When a prison ship crash unleashes hundreds of...</td>\n",
       "      <td>2018.0</td>\n",
       "      <td>9.0</td>\n",
       "    </tr>\n",
       "    <tr>\n",
       "      <td>#realityhigh</td>\n",
       "      <td>80125979</td>\n",
       "      <td>Movie</td>\n",
       "      <td>Fernando Lebrija</td>\n",
       "      <td>Nesta Cooper, Kate Walsh, John Michael Higgins...</td>\n",
       "      <td>United States</td>\n",
       "      <td>2017-09-08</td>\n",
       "      <td>2017</td>\n",
       "      <td>TV-14</td>\n",
       "      <td>99 min</td>\n",
       "      <td>Comedies</td>\n",
       "      <td>When nerdy high schooler Dani finally attracts...</td>\n",
       "      <td>2017.0</td>\n",
       "      <td>9.0</td>\n",
       "    </tr>\n",
       "  </tbody>\n",
       "</table>\n",
       "</div>"
      ],
      "text/plain": [
       "                                          show_id     type  \\\n",
       "title                                                        \n",
       "Norm of the North: King Sized Adventure  81145628    Movie   \n",
       "Jandino: Whatever it Takes               80117401    Movie   \n",
       "Transformers Prime                       70234439  TV Show   \n",
       "Transformers: Robots in Disguise         80058654  TV Show   \n",
       "#realityhigh                             80125979    Movie   \n",
       "\n",
       "                                                         director  \\\n",
       "title                                                               \n",
       "Norm of the North: King Sized Adventure  Richard Finn, Tim Maltby   \n",
       "Jandino: Whatever it Takes                                    NaN   \n",
       "Transformers Prime                                            NaN   \n",
       "Transformers: Robots in Disguise                              NaN   \n",
       "#realityhigh                                     Fernando Lebrija   \n",
       "\n",
       "                                                                                      cast  \\\n",
       "title                                                                                        \n",
       "Norm of the North: King Sized Adventure  Alan Marriott, Andrew Toth, Brian Dobson, Cole...   \n",
       "Jandino: Whatever it Takes                                                Jandino Asporaat   \n",
       "Transformers Prime                       Peter Cullen, Sumalee Montano, Frank Welker, J...   \n",
       "Transformers: Robots in Disguise         Will Friedle, Darren Criss, Constance Zimmer, ...   \n",
       "#realityhigh                             Nesta Cooper, Kate Walsh, John Michael Higgins...   \n",
       "\n",
       "                                                                          country  \\\n",
       "title                                                                               \n",
       "Norm of the North: King Sized Adventure  United States, India, South Korea, China   \n",
       "Jandino: Whatever it Takes                                         United Kingdom   \n",
       "Transformers Prime                                                  United States   \n",
       "Transformers: Robots in Disguise                                    United States   \n",
       "#realityhigh                                                        United States   \n",
       "\n",
       "                                        date_added  release_year    rating  \\\n",
       "title                                                                        \n",
       "Norm of the North: King Sized Adventure 2019-09-09          2019     TV-PG   \n",
       "Jandino: Whatever it Takes              2016-09-09          2016     TV-MA   \n",
       "Transformers Prime                      2018-09-08          2013  TV-Y7-FV   \n",
       "Transformers: Robots in Disguise        2018-09-08          2016     TV-Y7   \n",
       "#realityhigh                            2017-09-08          2017     TV-14   \n",
       "\n",
       "                                         duration  \\\n",
       "title                                               \n",
       "Norm of the North: King Sized Adventure    90 min   \n",
       "Jandino: Whatever it Takes                 94 min   \n",
       "Transformers Prime                       1 Season   \n",
       "Transformers: Robots in Disguise         1 Season   \n",
       "#realityhigh                               99 min   \n",
       "\n",
       "                                                                  listed_in  \\\n",
       "title                                                                         \n",
       "Norm of the North: King Sized Adventure  Children & Family Movies, Comedies   \n",
       "Jandino: Whatever it Takes                                  Stand-Up Comedy   \n",
       "Transformers Prime                                                 Kids' TV   \n",
       "Transformers: Robots in Disguise                                   Kids' TV   \n",
       "#realityhigh                                                       Comedies   \n",
       "\n",
       "                                                                               description  \\\n",
       "title                                                                                        \n",
       "Norm of the North: King Sized Adventure  Before planning an awesome wedding for his gra...   \n",
       "Jandino: Whatever it Takes               Jandino Asporaat riffs on the challenges of ra...   \n",
       "Transformers Prime                       With the help of three human allies, the Autob...   \n",
       "Transformers: Robots in Disguise         When a prison ship crash unleashes hundreds of...   \n",
       "#realityhigh                             When nerdy high schooler Dani finally attracts...   \n",
       "\n",
       "                                         year_added  month_added  \n",
       "title                                                             \n",
       "Norm of the North: King Sized Adventure      2019.0          9.0  \n",
       "Jandino: Whatever it Takes                   2016.0          9.0  \n",
       "Transformers Prime                           2018.0          9.0  \n",
       "Transformers: Robots in Disguise             2018.0          9.0  \n",
       "#realityhigh                                 2017.0          9.0  "
      ]
     },
     "execution_count": 24,
     "metadata": {},
     "output_type": "execute_result"
    }
   ],
   "source": [
    "## add new features in the dataset\n",
    "df[\"date_added\"] = pd.to_datetime(df['date_added'])\n",
    "df['year_added'] = df['date_added'].dt.year\n",
    "df['month_added'] = df['date_added'].dt.month\n",
    "\n",
    "\n",
    "df.head()"
   ]
  },
  {
   "cell_type": "code",
   "execution_count": 25,
   "metadata": {},
   "outputs": [],
   "source": [
    "from pylab import rcParams\n",
    "rcParams['figure.figsize'] = 15, 10"
   ]
  },
  {
   "cell_type": "code",
   "execution_count": 26,
   "metadata": {},
   "outputs": [
    {
     "name": "stdout",
     "output_type": "stream",
     "text": [
      "    year_added  count    percent\n",
      "11      2008.0      2   0.032139\n",
      "10      2009.0      2   0.032139\n",
      "12      2010.0      1   0.016069\n",
      "7       2011.0     13   0.208902\n",
      "9       2012.0      7   0.112486\n",
      "8       2013.0     12   0.192833\n",
      "6       2014.0     25   0.401735\n",
      "5       2015.0     90   1.446248\n",
      "3       2016.0    456   7.327655\n",
      "2       2017.0   1300  20.890246\n",
      "1       2018.0   1782  28.635706\n",
      "0       2019.0   2349  37.747067\n",
      "4       2020.0    184   2.956773\n"
     ]
    }
   ],
   "source": [
    "d1 = df[df[\"type\"] == \"TV Show\"]\n",
    "d2 = df[df[\"type\"] == \"Movie\"]\n",
    "\n",
    "col = \"year_added\"\n",
    "\n",
    "vc1 = d1[col].value_counts().reset_index()\n",
    "\n",
    "vc1 = vc1.rename(columns = {col : \"count\", \"index\" : col})\n",
    "vc1['percent'] = vc1['count'].apply(lambda x : 100*x/sum(vc1['count']))\n",
    "vc1 = vc1.sort_values(col)\n",
    "\n",
    "vc2 = d2[col].value_counts().reset_index()\n",
    "vc2 = vc2.rename(columns = {col : \"count\", \"index\" : col})\n",
    "vc2['percent'] = vc2['count'].apply(lambda x : 100*x/sum(vc2['count']))\n",
    "vc2 = vc2.sort_values(col)\n",
    "\n",
    "vc3 = df[col].value_counts().reset_index()\n",
    "vc3 = vc3.rename(columns = {col : \"count\", \"index\" : col})\n",
    "vc3['percent'] = vc3['count'].apply(lambda x : 100*x/sum(vc3['count']))\n",
    "vc3 = vc3.sort_values(col)\n",
    "\n",
    "print(vc3)"
   ]
  },
  {
   "cell_type": "code",
   "execution_count": 27,
   "metadata": {},
   "outputs": [
    {
     "data": {
      "image/png": "[encoded data removed]",
      "text/plain": [
       "<Figure size 1080x720 with 1 Axes>"
      ]
     },
     "metadata": {},
     "output_type": "display_data"
    }
   ],
   "source": [
    "#plt.figure(figsize=(10,10))\n",
    "sns.set_style(\"whitegrid\")\n",
    "plt.title(\"Content added over the years\")\n",
    "ax=sns.lineplot(x=\"year_added\",y=\"count\",data=vc3,label=\"Total\",marker='o', markerfacecolor='blue', markersize=5)\n",
    "ax=sns.lineplot(x=\"year_added\",y=\"count\",data=vc1,label=\"TV Shows\",marker='o', markerfacecolor='orange', markersize=5)\n",
    "ax=sns.lineplot(x=\"year_added\",y=\"count\",data=vc2,label=\"Movies\",marker='o', markerfacecolor='green', markersize=5)\n",
    "plt.subplot(ax)\n",
    "plt.show()"
   ]
  },
  {
   "cell_type": "code",
   "execution_count": 28,
   "metadata": {},
   "outputs": [
    {
     "name": "stdout",
     "output_type": "stream",
     "text": [
      "[('International Movies', 1927), ('Dramas', 1623), ('Comedies', 1113), ('Documentaries', 668), ('Action & Adventure', 597), ('Independent Movies', 552), ('Thrillers', 392), ('Children & Family Movies', 378), ('Romantic Movies', 376), ('Stand-Up Comedy', 281)]\n"
     ]
    }
   ],
   "source": [
    "#finding the 10 most common genres in movies\n",
    "col = \"listed_in\"\n",
    "d1=df[(df['type']==\"Movie\")]\n",
    "categories = \", \".join(d1['listed_in']).split(\", \")\n",
    "counter_list = Counter(categories).most_common(10)\n",
    "print(counter_list)\n",
    "labels = [_[0] for _ in counter_list][::-1]\n",
    "values = [_[1] for _ in counter_list][::-1]\n"
   ]
  },
  {
   "cell_type": "code",
   "execution_count": 29,
   "metadata": {},
   "outputs": [
    {
     "data": {
      "image/png": "[encoded data removed]",
      "text/plain": [
       "<Figure size 1080x720 with 1 Axes>"
      ]
     },
     "metadata": {},
     "output_type": "display_data"
    }
   ],
   "source": [
    "#code for the above plot\n",
    "x=pd.DataFrame()\n",
    "\n",
    "for i in labels:\n",
    "    d1 = df[(df[\"listed_in\"].str.contains(i)) & (df[\"type\"]==\"Movie\")]\n",
    "\n",
    "    col = \"year_added\"\n",
    "\n",
    "    vc1 = d1[col].value_counts().reset_index()\n",
    "\n",
    "    vc1 = vc1.rename(columns = {col : \"count\", \"index\" : col})\n",
    "    vc1['percent'] = vc1['count'].apply(lambda x : 100*x/sum(vc1['count']))\n",
    "    vc1 = vc1.sort_values(col)\n",
    "    \n",
    "    ax=sns.lineplot(x=\"year_added\",y=\"count\",data=vc1,label=i,marker='', markerfacecolor='black', markersize=5)\n",
    "    plt.subplot(ax)\n"
   ]
  },
  {
   "cell_type": "code",
   "execution_count": 30,
   "metadata": {},
   "outputs": [],
   "source": [
    "df1 = df[df['country'].notna()]\n",
    "c=pd.concat([pd.Series(row['year_added'], row['country'].split(','))              \n",
    "                    for _, row in df1.iterrows()]).reset_index()\n",
    "c = c.rename(columns = {\"index\" : \"country\", 0 : \"year\"})\n"
   ]
  },
  {
   "cell_type": "code",
   "execution_count": 31,
   "metadata": {},
   "outputs": [
    {
     "data": {
      "application/vnd.plotly.v1+json": {
       "config": {
        "plotlyServerURL": "https://plot.ly"
       },
       "data": [
        {
         "coloraxis": "coloraxis",
         "geo": "geo",
         "hovertemplate": "year=2008.0<br>country=%{location}<br>counts=%{z}<extra></extra>",
         "locationmode": "country names",
         "locations": [
          "United States"
         ],
         "name": "",
         "type": "choropleth",
         "z": [
          2
         ]
        }
       ],
       "frames": [
        {
         "data": [
          {
           "coloraxis": "coloraxis",
           "geo": "geo",
           "hovertemplate": "year=2008.0<br>country=%{location}<br>counts=%{z}<extra></extra>",
           "locationmode": "country names",
           "locations": [
            "United States"
           ],
           "name": "",
           "type": "choropleth",
           "z": [
            2
           ]
          }
         ],
         "name": "2008.0"
        },
        {
         "data": [
          {
           "coloraxis": "coloraxis",
           "geo": "geo",
           "hovertemplate": "year=2009.0<br>country=%{location}<br>counts=%{z}<extra></extra>",
           "locationmode": "country names",
           "locations": [
            "Denmark",
            "United States"
           ],
           "name": "",
           "type": "choropleth",
           "z": [
            1,
            1
           ]
          }
         ],
         "name": "2009.0"
        },
        {
         "data": [
          {
           "coloraxis": "coloraxis",
           "geo": "geo",
           "hovertemplate": "year=2010.0<br>country=%{location}<br>counts=%{z}<extra></extra>",
           "locationmode": "country names",
           "locations": [
            "United States"
           ],
           "name": "",
           "type": "choropleth",
           "z": [
            1
           ]
          }
         ],
         "name": "2010.0"
        },
        {
         "data": [
          {
           "coloraxis": "coloraxis",
           "geo": "geo",
           "hovertemplate": "year=2011.0<br>country=%{location}<br>counts=%{z}<extra></extra>",
           "locationmode": "country names",
           "locations": [
            " France",
            "Spain",
            " Mexico",
            "United States"
           ],
           "name": "",
           "type": "choropleth",
           "z": [
            1,
            1,
            1,
            12
           ]
          }
         ],
         "name": "2011.0"
        },
        {
         "data": [
          {
           "coloraxis": "coloraxis",
           "geo": "geo",
           "hovertemplate": "year=2012.0<br>country=%{location}<br>counts=%{z}<extra></extra>",
           "locationmode": "country names",
           "locations": [
            " Mexico",
            "United States"
           ],
           "name": "",
           "type": "choropleth",
           "z": [
            1,
            6
           ]
          }
         ],
         "name": "2012.0"
        },
        {
         "data": [
          {
           "coloraxis": "coloraxis",
           "geo": "geo",
           "hovertemplate": "year=2013.0<br>country=%{location}<br>counts=%{z}<extra></extra>",
           "locationmode": "country names",
           "locations": [
            " Ireland",
            "Canada",
            " United Kingdom",
            "United States"
           ],
           "name": "",
           "type": "choropleth",
           "z": [
            1,
            1,
            1,
            11
           ]
          }
         ],
         "name": "2013.0"
        },
        {
         "data": [
          {
           "coloraxis": "coloraxis",
           "geo": "geo",
           "hovertemplate": "year=2014.0<br>country=%{location}<br>counts=%{z}<extra></extra>",
           "locationmode": "country names",
           "locations": [
            " Ireland",
            " Canada",
            " Egypt",
            " Ecuador",
            " United States",
            "Canada",
            " Bermuda",
            "",
            "Norway",
            " Hungary",
            "United States",
            "United Kingdom"
           ],
           "name": "",
           "type": "choropleth",
           "z": [
            1,
            2,
            1,
            1,
            4,
            2,
            1,
            1,
            1,
            1,
            19,
            3
           ]
          }
         ],
         "name": "2014.0"
        },
        {
         "data": [
          {
           "coloraxis": "coloraxis",
           "geo": "geo",
           "hovertemplate": "year=2015.0<br>country=%{location}<br>counts=%{z}<extra></extra>",
           "locationmode": "country names",
           "locations": [
            " Italy",
            "Italy",
            "Nigeria",
            "United States",
            "Canada",
            "New Zealand",
            " Australia",
            " Greece",
            "Belgium",
            "France",
            "Australia",
            " Ireland",
            " New Zealand",
            " Canada",
            "United Kingdom",
            "Mexico",
            " Belgium",
            "Germany",
            " United States",
            " France",
            "Norway",
            " Germany",
            "Japan",
            " United Kingdom",
            " Ukraine"
           ],
           "name": "",
           "type": "choropleth",
           "z": [
            3,
            1,
            1,
            57,
            6,
            1,
            2,
            1,
            1,
            5,
            3,
            2,
            1,
            1,
            6,
            1,
            2,
            2,
            4,
            4,
            1,
            1,
            1,
            4,
            1
           ]
          }
         ],
         "name": "2015.0"
        },
        {
         "data": [
          {
           "coloraxis": "coloraxis",
           "geo": "geo",
           "hovertemplate": "year=2016.0<br>country=%{location}<br>counts=%{z}<extra></extra>",
           "locationmode": "country names",
           "locations": [
            " Indonesia",
            " Israel",
            "France",
            "India",
            " India",
            "Germany",
            "Iceland",
            " Hungary",
            "Hong Kong",
            "Belgium",
            " Japan",
            " Russia",
            " Serbia",
            " Qatar",
            " Slovenia",
            " South Africa",
            " South Korea",
            " Spain",
            " Peru",
            " Norway",
            " United Kingdom",
            " New Zealand",
            " United States",
            " Netherlands",
            " Zimbabwe",
            "Argentina",
            " Montenegro",
            "Australia",
            "Austria",
            "Israel",
            "Brazil",
            "Canada",
            " Kazakhstan",
            "Chile",
            " Jordan",
            "China",
            "Colombia",
            "Croatia",
            "Denmark",
            " Hong Kong",
            "Ireland",
            "Italy",
            "United Kingdom",
            " Denmark",
            "Spain",
            "Norway",
            "United Arab Emirates",
            "Pakistan",
            " Cuba",
            "Peru",
            "Nigeria",
            "Poland",
            "Turkey",
            "Russia",
            " China",
            "Taiwan",
            "Switzerland",
            "Sweden",
            " Chile",
            "South Korea",
            " Belgium",
            " Finland",
            " Canada",
            " Australia",
            " Azerbaijan",
            "Netherlands",
            "Japan",
            " France",
            "Mexico",
            " Germany",
            " Greece",
            "United States"
           ],
           "name": "",
           "type": "choropleth",
           "z": [
            1,
            1,
            17,
            13,
            2,
            5,
            1,
            1,
            3,
            1,
            13,
            1,
            1,
            1,
            1,
            2,
            2,
            5,
            1,
            2,
            9,
            3,
            22,
            4,
            1,
            3,
            1,
            8,
            1,
            2,
            3,
            24,
            1,
            1,
            1,
            6,
            2,
            1,
            6,
            1,
            3,
            3,
            45,
            1,
            13,
            3,
            1,
            4,
            1,
            2,
            1,
            1,
            4,
            1,
            3,
            29,
            1,
            1,
            1,
            8,
            3,
            1,
            11,
            2,
            1,
            4,
            20,
            14,
            9,
            9,
            5,
            190
           ]
          }
         ],
         "name": "2016.0"
        },
        {
         "data": [
          {
           "coloraxis": "coloraxis",
           "geo": "geo",
           "hovertemplate": "year=2017.0<br>country=%{location}<br>counts=%{z}<extra></extra>",
           "locationmode": "country names",
           "locations": [
            "Thailand",
            "Taiwan",
            " Slovakia",
            "Switzerland",
            "Argentina",
            " Venezuela",
            " Singapore",
            "Venezuela",
            "Sweden",
            "Vietnam",
            "Australia",
            " Uruguay",
            " United States",
            " Sri Lanka",
            "Turkey",
            " Sweden",
            "Ukraine",
            " South Africa",
            "United Arab Emirates",
            "United States",
            " South Korea",
            " United Kingdom",
            " Soviet Union",
            "United Kingdom",
            " Spain",
            " Thailand",
            " Switzerland",
            "Uruguay",
            " United Arab Emirates",
            "Brazil",
            "Austria",
            "France",
            "New Zealand",
            "Netherlands",
            "Georgia",
            "Germany",
            "Mexico",
            "Hong Kong",
            "Nigeria",
            "Malaysia",
            "Iceland",
            "India",
            "Indonesia",
            "Ireland",
            " Senegal",
            "Israel",
            "Japan",
            "Lebanon",
            "Finland",
            "Denmark",
            "Norway",
            "Belgium",
            "South Korea",
            "South Africa",
            "Italy",
            "Slovenia",
            "Bulgaria",
            "Cambodia",
            "Canada",
            "Singapore",
            "Saudi Arabia",
            "Chile",
            "Russia",
            "Portugal",
            "China",
            "Colombia",
            "Pakistan",
            "Czech Republic",
            "Spain",
            " Samoa",
            "West Germany",
            " Latvia",
            " Armenia",
            " Netherlands",
            " Hong Kong",
            " Peru",
            " Croatia",
            " Czech Republic",
            " Panama",
            " Iran",
            " Colombia",
            " Iceland",
            " Australia",
            " Brazil",
            " Mongolia",
            " Italy",
            " India",
            " Austria",
            " New Zealand",
            " Norway",
            " Bulgaria",
            " Mexico",
            " Nicaragua",
            " Japan",
            " Belgium",
            " Malaysia",
            " Qatar",
            " Lebanon",
            " Russia",
            " France",
            " Ireland",
            " Romania",
            " Botswana",
            " Israel",
            " Nepal",
            " Philippines",
            " Chile",
            " China",
            " Morocco",
            " Afghanistan",
            " Germany",
            " Jordan",
            " Denmark",
            " Poland",
            " Greece",
            " Argentina",
            " Canada"
           ],
           "name": "",
           "type": "choropleth",
           "z": [
            2,
            11,
            1,
            1,
            11,
            1,
            2,
            1,
            4,
            1,
            24,
            4,
            61,
            1,
            44,
            7,
            1,
            4,
            2,
            425,
            2,
            17,
            2,
            123,
            11,
            1,
            4,
            1,
            2,
            15,
            1,
            34,
            2,
            4,
            1,
            17,
            30,
            2,
            1,
            7,
            1,
            192,
            2,
            4,
            1,
            5,
            39,
            1,
            1,
            2,
            5,
            5,
            44,
            1,
            12,
            1,
            1,
            1,
            53,
            9,
            1,
            8,
            6,
            1,
            19,
            4,
            5,
            2,
            33,
            1,
            1,
            1,
            1,
            4,
            6,
            1,
            1,
            2,
            1,
            1,
            2,
            1,
            6,
            2,
            1,
            6,
            10,
            1,
            2,
            1,
            1,
            6,
            1,
            7,
            18,
            1,
            4,
            1,
            2,
            24,
            3,
            1,
            1,
            2,
            1,
            1,
            1,
            6,
            1,
            1,
            16,
            3,
            3,
            1,
            1,
            6,
            19
           ]
          }
         ],
         "name": "2017.0"
        },
        {
         "data": [
          {
           "coloraxis": "coloraxis",
           "geo": "geo",
           "hovertemplate": "year=2018.0<br>country=%{location}<br>counts=%{z}<extra></extra>",
           "locationmode": "country names",
           "locations": [
            " Israel",
            "Finland",
            "France",
            " Colombia",
            "Denmark",
            "Egypt",
            " Kenya",
            "Chile",
            " Chile",
            "South Korea",
            "China",
            " Jordan",
            "Colombia",
            " Japan",
            "South Africa",
            "Somalia",
            "Czech Republic",
            "Singapore",
            " Italy",
            " China",
            "Serbia",
            "Saudi Arabia",
            "Russia",
            " Russia",
            "Georgia",
            " Czech Republic",
            "Italy",
            " Hong Kong",
            " Denmark",
            "Japan",
            " Greece",
            "Norway",
            "Pakistan",
            "Lebanon",
            " Germany",
            "Malaysia",
            " Egypt",
            "Nigeria",
            "Mexico",
            " Finland",
            " France",
            " Dominican Republic",
            " Ireland",
            "Israel",
            "Ireland",
            "Germany",
            "Portugal",
            " Iraq",
            "Guatemala",
            "Hong Kong",
            " Iran",
            " Kuwait",
            " Iceland",
            " Indonesia",
            "Iceland",
            "India",
            "Philippines",
            " India",
            "Indonesia",
            "Peru",
            " Croatia",
            "Poland",
            "Hungary",
            "Canada",
            " Lebanon",
            " Syria",
            " Taiwan",
            "United States",
            " Turkey",
            " Uganda",
            " Austria",
            " United Arab Emirates",
            " Bangladesh",
            " United Kingdom",
            "United Kingdom",
            "Soviet Union",
            " United States",
            " Belgium",
            "United Arab Emirates",
            " Netherlands",
            " Australia",
            " Switzerland",
            " Sweden",
            " Sudan",
            "",
            " Serbia",
            "Vietnam",
            "Venezuela",
            " Singapore",
            " Qatar",
            " Slovenia",
            "Ukraine",
            " South Africa",
            " South Korea",
            "Uruguay",
            " Albania",
            " Poland",
            " Argentina",
            " Spain",
            " Peru",
            " Portugal",
            " Namibia",
            " New Zealand",
            " West Germany",
            "New Zealand",
            "Spain",
            "Cambodia",
            " Cayman Islands",
            " Luxembourg",
            "Bulgaria",
            "Brazil",
            "Sweden",
            " Canada",
            "Switzerland",
            " Brazil",
            "Belgium",
            " Bulgaria",
            " Mexico",
            "Taiwan",
            "Netherlands",
            "Argentina",
            "Turkey",
            "Australia",
            " Zimbabwe",
            "Thailand",
            " Morocco"
           ],
           "name": "",
           "type": "choropleth",
           "z": [
            3,
            1,
            36,
            3,
            7,
            2,
            1,
            7,
            2,
            30,
            27,
            1,
            13,
            7,
            5,
            1,
            3,
            7,
            6,
            15,
            2,
            1,
            6,
            1,
            1,
            2,
            10,
            7,
            4,
            49,
            1,
            4,
            5,
            1,
            19,
            3,
            1,
            2,
            25,
            1,
            33,
            1,
            2,
            7,
            12,
            17,
            1,
            1,
            1,
            50,
            2,
            1,
            1,
            3,
            1,
            353,
            5,
            10,
            26,
            2,
            1,
            4,
            2,
            50,
            1,
            1,
            1,
            540,
            1,
            1,
            1,
            4,
            1,
            32,
            126,
            1,
            101,
            12,
            3,
            6,
            8,
            2,
            7,
            1,
            1,
            1,
            2,
            1,
            1,
            1,
            1,
            1,
            8,
            5,
            2,
            1,
            5,
            3,
            9,
            1,
            1,
            1,
            3,
            1,
            4,
            37,
            1,
            1,
            3,
            3,
            18,
            3,
            35,
            3,
            4,
            2,
            1,
            9,
            8,
            4,
            24,
            13,
            32,
            1,
            35,
            4
           ]
          }
         ],
         "name": "2018.0"
        },
        {
         "data": [
          {
           "coloraxis": "coloraxis",
           "geo": "geo",
           "hovertemplate": "year=2019.0<br>country=%{location}<br>counts=%{z}<extra></extra>",
           "locationmode": "country names",
           "locations": [
            "Philippines",
            "South Africa",
            " Chile",
            " Denmark",
            " Canada",
            "Uruguay",
            "South Korea",
            "Turkey",
            " Colombia",
            "Nigeria",
            "United Arab Emirates",
            " Finland",
            "Spain",
            "New Zealand",
            "Romania",
            "",
            "Sweden",
            "Norway",
            " Belgium",
            "Thailand",
            "Peru",
            "Poland",
            "Taiwan",
            "United States",
            "Paraguay",
            " Austria",
            " Bulgaria",
            " Cambodia",
            " Czech Republic",
            "United Kingdom",
            " Australia",
            "Pakistan",
            "Singapore",
            " China",
            " Brazil",
            " Argentina",
            "Russia",
            "Switzerland",
            "Iceland",
            " France",
            " Vatican City",
            "Vietnam",
            " Morocco",
            "Argentina",
            "Australia",
            "Austria",
            " Mexico",
            "Bangladesh",
            " Malta",
            "Belgium",
            " Malaysia",
            "Brazil",
            " Malawi",
            "Bulgaria",
            " Luxembourg",
            " Liechtenstein",
            "Chile",
            " Jordan",
            "China",
            " Uruguay",
            "Colombia",
            " Nepal",
            " United States",
            " Senegal",
            " Serbia",
            " Singapore",
            " Portugal",
            " South Africa",
            " South Korea",
            " Poland",
            " Spain",
            " Peru",
            " Sweden",
            " Switzerland",
            " Taiwan",
            " Thailand",
            " Pakistan",
            " Turkey",
            " United Arab Emirates",
            " Norway",
            " United Kingdom",
            " New Zealand",
            " Netherlands",
            "Croatia",
            "Canada",
            " Japan",
            "Ghana",
            "Hong Kong",
            " Russia",
            "Cyprus",
            " India",
            "Indonesia",
            "Iran",
            "Ireland",
            "Israel",
            " Hungary",
            "Italy",
            " Hong Kong",
            "Japan",
            "Lebanon",
            "Malaysia",
            "Mauritius",
            "Mexico",
            " Germany",
            "Netherlands",
            " Iraq",
            "Germany",
            "India",
            " West Germany",
            "Finland",
            " Italy",
            "Denmark",
            " Ireland",
            "France",
            "Dominican Republic",
            "Egypt"
           ],
           "name": "",
           "type": "choropleth",
           "z": [
            41,
            5,
            1,
            2,
            34,
            1,
            62,
            22,
            2,
            31,
            4,
            2,
            53,
            3,
            5,
            1,
            4,
            2,
            16,
            16,
            1,
            11,
            23,
            920,
            1,
            2,
            1,
            1,
            6,
            165,
            12,
            7,
            3,
            19,
            3,
            3,
            2,
            2,
            1,
            41,
            1,
            1,
            1,
            18,
            25,
            3,
            11,
            2,
            2,
            5,
            1,
            20,
            1,
            1,
            4,
            1,
            2,
            1,
            24,
            1,
            10,
            1,
            101,
            1,
            1,
            7,
            1,
            4,
            5,
            4,
            13,
            1,
            7,
            2,
            2,
            2,
            2,
            3,
            5,
            2,
            44,
            2,
            4,
            1,
            66,
            16,
            2,
            18,
            1,
            1,
            6,
            18,
            1,
            3,
            6,
            1,
            14,
            9,
            69,
            5,
            8,
            1,
            31,
            30,
            6,
            1,
            21,
            243,
            2,
            3,
            9,
            12,
            2,
            54,
            1,
            50
           ]
          }
         ],
         "name": "2019.0"
        },
        {
         "data": [
          {
           "coloraxis": "coloraxis",
           "geo": "geo",
           "hovertemplate": "year=2020.0<br>country=%{location}<br>counts=%{z}<extra></extra>",
           "locationmode": "country names",
           "locations": [
            " Taiwan",
            " Australia",
            "United States",
            "Japan",
            " Germany",
            " Spain",
            " East Germany",
            " South Korea",
            "China",
            "South Africa",
            " France",
            " Singapore",
            "New Zealand",
            "Mexico",
            " Japan",
            " Italy",
            "South Korea",
            "France",
            " Malaysia",
            "Germany",
            "Austria",
            "Belgium",
            "Poland",
            "Australia",
            " Mexico",
            " India",
            " West Germany",
            "Canada",
            "Brazil",
            "India",
            "Spain",
            " United States",
            "Indonesia",
            " Canada",
            " United Kingdom",
            "Netherlands",
            "United Kingdom",
            "Russia",
            " Hong Kong"
           ],
           "name": "",
           "type": "choropleth",
           "z": [
            1,
            2,
            112,
            5,
            11,
            1,
            1,
            2,
            1,
            1,
            7,
            1,
            2,
            3,
            4,
            3,
            2,
            1,
            1,
            3,
            1,
            1,
            1,
            1,
            2,
            2,
            1,
            4,
            1,
            7,
            2,
            15,
            2,
            10,
            12,
            1,
            14,
            1,
            1
           ]
          }
         ],
         "name": "2020.0"
        }
       ],
       "layout": {
        "autosize": true,
        "coloraxis": {
         "cmax": 100,
         "cmin": 0,
         "colorbar": {
          "title": {
           "text": "counts"
          }
         },
         "colorscale": [
          [
           0,
           "#440154"
          ],
          [
           0.1111111111111111,
           "#482878"
          ],
          [
           0.2222222222222222,
           "#3e4989"
          ],
          [
           0.3333333333333333,
           "#31688e"
          ],
          [
           0.4444444444444444,
           "#26828e"
          ],
          [
           0.5555555555555556,
           "#1f9e89"
          ],
          [
           0.6666666666666666,
           "#35b779"
          ],
          [
           0.7777777777777778,
           "#6ece58"
          ],
          [
           0.8888888888888888,
           "#b5de2b"
          ],
          [
           1,
           "#fde725"
          ]
         ]
        },
        "geo": {
         "center": {},
         "domain": {
          "x": [
           0,
           1
          ],
          "y": [
           0,
           1
          ]
         }
        },
        "legend": {
         "tracegroupgap": 0
        },
        "margin": {
         "t": 60
        },
        "sliders": [
         {
          "active": 0,
          "currentvalue": {
           "prefix": "year="
          },
          "len": 0.9,
          "pad": {
           "b": 10,
           "t": 60
          },
          "steps": [
           {
            "args": [
             [
              "2008.0"
             ],
             {
              "frame": {
               "duration": 0,
               "redraw": true
              },
              "fromcurrent": true,
              "mode": "immediate",
              "transition": {
               "duration": 0,
               "easing": "linear"
              }
             }
            ],
            "label": "2008.0",
            "method": "animate"
           },
           {
            "args": [
             [
              "2009.0"
             ],
             {
              "frame": {
               "duration": 0,
               "redraw": true
              },
              "fromcurrent": true,
              "mode": "immediate",
              "transition": {
               "duration": 0,
               "easing": "linear"
              }
             }
            ],
            "label": "2009.0",
            "method": "animate"
           },
           {
            "args": [
             [
              "2010.0"
             ],
             {
              "frame": {
               "duration": 0,
               "redraw": true
              },
              "fromcurrent": true,
              "mode": "immediate",
              "transition": {
               "duration": 0,
               "easing": "linear"
              }
             }
            ],
            "label": "2010.0",
            "method": "animate"
           },
           {
            "args": [
             [
              "2011.0"
             ],
             {
              "frame": {
               "duration": 0,
               "redraw": true
              },
              "fromcurrent": true,
              "mode": "immediate",
              "transition": {
               "duration": 0,
               "easing": "linear"
              }
             }
            ],
            "label": "2011.0",
            "method": "animate"
           },
           {
            "args": [
             [
              "2012.0"
             ],
             {
              "frame": {
               "duration": 0,
               "redraw": true
              },
              "fromcurrent": true,
              "mode": "immediate",
              "transition": {
               "duration": 0,
               "easing": "linear"
              }
             }
            ],
            "label": "2012.0",
            "method": "animate"
           },
           {
            "args": [
             [
              "2013.0"
             ],
             {
              "frame": {
               "duration": 0,
               "redraw": true
              },
              "fromcurrent": true,
              "mode": "immediate",
              "transition": {
               "duration": 0,
               "easing": "linear"
              }
             }
            ],
            "label": "2013.0",
            "method": "animate"
           },
           {
            "args": [
             [
              "2014.0"
             ],
             {
              "frame": {
               "duration": 0,
               "redraw": true
              },
              "fromcurrent": true,
              "mode": "immediate",
              "transition": {
               "duration": 0,
               "easing": "linear"
              }
             }
            ],
            "label": "2014.0",
            "method": "animate"
           },
           {
            "args": [
             [
              "2015.0"
             ],
             {
              "frame": {
               "duration": 0,
               "redraw": true
              },
              "fromcurrent": true,
              "mode": "immediate",
              "transition": {
               "duration": 0,
               "easing": "linear"
              }
             }
            ],
            "label": "2015.0",
            "method": "animate"
           },
           {
            "args": [
             [
              "2016.0"
             ],
             {
              "frame": {
               "duration": 0,
               "redraw": true
              },
              "fromcurrent": true,
              "mode": "immediate",
              "transition": {
               "duration": 0,
               "easing": "linear"
              }
             }
            ],
            "label": "2016.0",
            "method": "animate"
           },
           {
            "args": [
             [
              "2017.0"
             ],
             {
              "frame": {
               "duration": 0,
               "redraw": true
              },
              "fromcurrent": true,
              "mode": "immediate",
              "transition": {
               "duration": 0,
               "easing": "linear"
              }
             }
            ],
            "label": "2017.0",
            "method": "animate"
           },
           {
            "args": [
             [
              "2018.0"
             ],
             {
              "frame": {
               "duration": 0,
               "redraw": true
              },
              "fromcurrent": true,
              "mode": "immediate",
              "transition": {
               "duration": 0,
               "easing": "linear"
              }
             }
            ],
            "label": "2018.0",
            "method": "animate"
           },
           {
            "args": [
             [
              "2019.0"
             ],
             {
              "frame": {
               "duration": 0,
               "redraw": true
              },
              "fromcurrent": true,
              "mode": "immediate",
              "transition": {
               "duration": 0,
               "easing": "linear"
              }
             }
            ],
            "label": "2019.0",
            "method": "animate"
           },
           {
            "args": [
             [
              "2020.0"
             ],
             {
              "frame": {
               "duration": 0,
               "redraw": true
              },
              "fromcurrent": true,
              "mode": "immediate",
              "transition": {
               "duration": 0,
               "easing": "linear"
              }
             }
            ],
            "label": "2020.0",
            "method": "animate"
           }
          ],
          "x": 0.1,
          "xanchor": "left",
          "y": 0,
          "yanchor": "top"
         }
        ],
        "template": {
         "data": {
          "bar": [
           {
            "error_x": {
             "color": "#2a3f5f"
            },
            "error_y": {
             "color": "#2a3f5f"
            },
            "marker": {
             "line": {
              "color": "#E5ECF6",
              "width": 0.5
             }
            },
            "type": "bar"
           }
          ],
          "barpolar": [
           {
            "marker": {
             "line": {
              "color": "#E5ECF6",
              "width": 0.5
             }
            },
            "type": "barpolar"
           }
          ],
          "carpet": [
           {
            "aaxis": {
             "endlinecolor": "#2a3f5f",
             "gridcolor": "white",
             "linecolor": "white",
             "minorgridcolor": "white",
             "startlinecolor": "#2a3f5f"
            },
            "baxis": {
             "endlinecolor": "#2a3f5f",
             "gridcolor": "white",
             "linecolor": "white",
             "minorgridcolor": "white",
             "startlinecolor": "#2a3f5f"
            },
            "type": "carpet"
           }
          ],
          "choropleth": [
           {
            "colorbar": {
             "outlinewidth": 0,
             "ticks": ""
            },
            "type": "choropleth"
           }
          ],
          "contour": [
           {
            "colorbar": {
             "outlinewidth": 0,
             "ticks": ""
            },
            "colorscale": [
             [
              0,
              "#0d0887"
             ],
             [
              0.1111111111111111,
              "#46039f"
             ],
             [
              0.2222222222222222,
              "#7201a8"
             ],
             [
              0.3333333333333333,
              "#9c179e"
             ],
             [
              0.4444444444444444,
              "#bd3786"
             ],
             [
              0.5555555555555556,
              "#d8576b"
             ],
             [
              0.6666666666666666,
              "#ed7953"
             ],
             [
              0.7777777777777778,
              "#fb9f3a"
             ],
             [
              0.8888888888888888,
              "#fdca26"
             ],
             [
              1,
              "#f0f921"
             ]
            ],
            "type": "contour"
           }
          ],
          "contourcarpet": [
           {
            "colorbar": {
             "outlinewidth": 0,
             "ticks": ""
            },
            "type": "contourcarpet"
           }
          ],
          "heatmap": [
           {
            "colorbar": {
             "outlinewidth": 0,
             "ticks": ""
            },
            "colorscale": [
             [
              0,
              "#0d0887"
             ],
             [
              0.1111111111111111,
              "#46039f"
             ],
             [
              0.2222222222222222,
              "#7201a8"
             ],
             [
              0.3333333333333333,
              "#9c179e"
             ],
             [
              0.4444444444444444,
              "#bd3786"
             ],
             [
              0.5555555555555556,
              "#d8576b"
             ],
             [
              0.6666666666666666,
              "#ed7953"
             ],
             [
              0.7777777777777778,
              "#fb9f3a"
             ],
             [
              0.8888888888888888,
              "#fdca26"
             ],
             [
              1,
              "#f0f921"
             ]
            ],
            "type": "heatmap"
           }
          ],
          "heatmapgl": [
           {
            "colorbar": {
             "outlinewidth": 0,
             "ticks": ""
            },
            "colorscale": [
             [
              0,
              "#0d0887"
             ],
             [
              0.1111111111111111,
              "#46039f"
             ],
             [
              0.2222222222222222,
              "#7201a8"
             ],
             [
              0.3333333333333333,
              "#9c179e"
             ],
             [
              0.4444444444444444,
              "#bd3786"
             ],
             [
              0.5555555555555556,
              "#d8576b"
             ],
             [
              0.6666666666666666,
              "#ed7953"
             ],
             [
              0.7777777777777778,
              "#fb9f3a"
             ],
             [
              0.8888888888888888,
              "#fdca26"
             ],
             [
              1,
              "#f0f921"
             ]
            ],
            "type": "heatmapgl"
           }
          ],
          "histogram": [
           {
            "marker": {
             "colorbar": {
              "outlinewidth": 0,
              "ticks": ""
             }
            },
            "type": "histogram"
           }
          ],
          "histogram2d": [
           {
            "colorbar": {
             "outlinewidth": 0,
             "ticks": ""
            },
            "colorscale": [
             [
              0,
              "#0d0887"
             ],
             [
              0.1111111111111111,
              "#46039f"
             ],
             [
              0.2222222222222222,
              "#7201a8"
             ],
             [
              0.3333333333333333,
              "#9c179e"
             ],
             [
              0.4444444444444444,
              "#bd3786"
             ],
             [
              0.5555555555555556,
              "#d8576b"
             ],
             [
              0.6666666666666666,
              "#ed7953"
             ],
             [
              0.7777777777777778,
              "#fb9f3a"
             ],
             [
              0.8888888888888888,
              "#fdca26"
             ],
             [
              1,
              "#f0f921"
             ]
            ],
            "type": "histogram2d"
           }
          ],
          "histogram2dcontour": [
           {
            "colorbar": {
             "outlinewidth": 0,
             "ticks": ""
            },
            "colorscale": [
             [
              0,
              "#0d0887"
             ],
             [
              0.1111111111111111,
              "#46039f"
             ],
             [
              0.2222222222222222,
              "#7201a8"
             ],
             [
              0.3333333333333333,
              "#9c179e"
             ],
             [
              0.4444444444444444,
              "#bd3786"
             ],
             [
              0.5555555555555556,
              "#d8576b"
             ],
             [
              0.6666666666666666,
              "#ed7953"
             ],
             [
              0.7777777777777778,
              "#fb9f3a"
             ],
             [
              0.8888888888888888,
              "#fdca26"
             ],
             [
              1,
              "#f0f921"
             ]
            ],
            "type": "histogram2dcontour"
           }
          ],
          "mesh3d": [
           {
            "colorbar": {
             "outlinewidth": 0,
             "ticks": ""
            },
            "type": "mesh3d"
           }
          ],
          "parcoords": [
           {
            "line": {
             "colorbar": {
              "outlinewidth": 0,
              "ticks": ""
             }
            },
            "type": "parcoords"
           }
          ],
          "pie": [
           {
            "automargin": true,
            "type": "pie"
           }
          ],
          "scatter": [
           {
            "marker": {
             "colorbar": {
              "outlinewidth": 0,
              "ticks": ""
             }
            },
            "type": "scatter"
           }
          ],
          "scatter3d": [
           {
            "line": {
             "colorbar": {
              "outlinewidth": 0,
              "ticks": ""
             }
            },
            "marker": {
             "colorbar": {
              "outlinewidth": 0,
              "ticks": ""
             }
            },
            "type": "scatter3d"
           }
          ],
          "scattercarpet": [
           {
            "marker": {
             "colorbar": {
              "outlinewidth": 0,
              "ticks": ""
             }
            },
            "type": "scattercarpet"
           }
          ],
          "scattergeo": [
           {
            "marker": {
             "colorbar": {
              "outlinewidth": 0,
              "ticks": ""
             }
            },
            "type": "scattergeo"
           }
          ],
          "scattergl": [
           {
            "marker": {
             "colorbar": {
              "outlinewidth": 0,
              "ticks": ""
             }
            },
            "type": "scattergl"
           }
          ],
          "scattermapbox": [
           {
            "marker": {
             "colorbar": {
              "outlinewidth": 0,
              "ticks": ""
             }
            },
            "type": "scattermapbox"
           }
          ],
          "scatterpolar": [
           {
            "marker": {
             "colorbar": {
              "outlinewidth": 0,
              "ticks": ""
             }
            },
            "type": "scatterpolar"
           }
          ],
          "scatterpolargl": [
           {
            "marker": {
             "colorbar": {
              "outlinewidth": 0,
              "ticks": ""
             }
            },
            "type": "scatterpolargl"
           }
          ],
          "scatterternary": [
           {
            "marker": {
             "colorbar": {
              "outlinewidth": 0,
              "ticks": ""
             }
            },
            "type": "scatterternary"
           }
          ],
          "surface": [
           {
            "colorbar": {
             "outlinewidth": 0,
             "ticks": ""
            },
            "colorscale": [
             [
              0,
              "#0d0887"
             ],
             [
              0.1111111111111111,
              "#46039f"
             ],
             [
              0.2222222222222222,
              "#7201a8"
             ],
             [
              0.3333333333333333,
              "#9c179e"
             ],
             [
              0.4444444444444444,
              "#bd3786"
             ],
             [
              0.5555555555555556,
              "#d8576b"
             ],
             [
              0.6666666666666666,
              "#ed7953"
             ],
             [
              0.7777777777777778,
              "#fb9f3a"
             ],
             [
              0.8888888888888888,
              "#fdca26"
             ],
             [
              1,
              "#f0f921"
             ]
            ],
            "type": "surface"
           }
          ],
          "table": [
           {
            "cells": {
             "fill": {
              "color": "#EBF0F8"
             },
             "line": {
              "color": "white"
             }
            },
            "header": {
             "fill": {
              "color": "#C8D4E3"
             },
             "line": {
              "color": "white"
             }
            },
            "type": "table"
           }
          ]
         },
         "layout": {
          "annotationdefaults": {
           "arrowcolor": "#2a3f5f",
           "arrowhead": 0,
           "arrowwidth": 1
          },
          "coloraxis": {
           "colorbar": {
            "outlinewidth": 0,
            "ticks": ""
           }
          },
          "colorscale": {
           "diverging": [
            [
             0,
             "#8e0152"
            ],
            [
             0.1,
             "#c51b7d"
            ],
            [
             0.2,
             "#de77ae"
            ],
            [
             0.3,
             "#f1b6da"
            ],
            [
             0.4,
             "#fde0ef"
            ],
            [
             0.5,
             "#f7f7f7"
            ],
            [
             0.6,
             "#e6f5d0"
            ],
            [
             0.7,
             "#b8e186"
            ],
            [
             0.8,
             "#7fbc41"
            ],
            [
             0.9,
             "#4d9221"
            ],
            [
             1,
             "#276419"
            ]
           ],
           "sequential": [
            [
             0,
             "#0d0887"
            ],
            [
             0.1111111111111111,
             "#46039f"
            ],
            [
             0.2222222222222222,
             "#7201a8"
            ],
            [
             0.3333333333333333,
             "#9c179e"
            ],
            [
             0.4444444444444444,
             "#bd3786"
            ],
            [
             0.5555555555555556,
             "#d8576b"
            ],
            [
             0.6666666666666666,
             "#ed7953"
            ],
            [
             0.7777777777777778,
             "#fb9f3a"
            ],
            [
             0.8888888888888888,
             "#fdca26"
            ],
            [
             1,
             "#f0f921"
            ]
           ],
           "sequentialminus": [
            [
             0,
             "#0d0887"
            ],
            [
             0.1111111111111111,
             "#46039f"
            ],
            [
             0.2222222222222222,
             "#7201a8"
            ],
            [
             0.3333333333333333,
             "#9c179e"
            ],
            [
             0.4444444444444444,
             "#bd3786"
            ],
            [
             0.5555555555555556,
             "#d8576b"
            ],
            [
             0.6666666666666666,
             "#ed7953"
            ],
            [
             0.7777777777777778,
             "#fb9f3a"
            ],
            [
             0.8888888888888888,
             "#fdca26"
            ],
            [
             1,
             "#f0f921"
            ]
           ]
          },
          "colorway": [
           "#636efa",
           "#EF553B",
           "#00cc96",
           "#ab63fa",
           "#FFA15A",
           "#19d3f3",
           "#FF6692",
           "#B6E880",
           "#FF97FF",
           "#FECB52"
          ],
          "font": {
           "color": "#2a3f5f"
          },
          "geo": {
           "bgcolor": "white",
           "lakecolor": "white",
           "landcolor": "#E5ECF6",
           "showlakes": true,
           "showland": true,
           "subunitcolor": "white"
          },
          "hoverlabel": {
           "align": "left"
          },
          "hovermode": "closest",
          "mapbox": {
           "style": "light"
          },
          "paper_bgcolor": "white",
          "plot_bgcolor": "#E5ECF6",
          "polar": {
           "angularaxis": {
            "gridcolor": "white",
            "linecolor": "white",
            "ticks": ""
           },
           "bgcolor": "#E5ECF6",
           "radialaxis": {
            "gridcolor": "white",
            "linecolor": "white",
            "ticks": ""
           }
          },
          "scene": {
           "xaxis": {
            "backgroundcolor": "#E5ECF6",
            "gridcolor": "white",
            "gridwidth": 2,
            "linecolor": "white",
            "showbackground": true,
            "ticks": "",
            "zerolinecolor": "white"
           },
           "yaxis": {
            "backgroundcolor": "#E5ECF6",
            "gridcolor": "white",
            "gridwidth": 2,
            "linecolor": "white",
            "showbackground": true,
            "ticks": "",
            "zerolinecolor": "white"
           },
           "zaxis": {
            "backgroundcolor": "#E5ECF6",
            "gridcolor": "white",
            "gridwidth": 2,
            "linecolor": "white",
            "showbackground": true,
            "ticks": "",
            "zerolinecolor": "white"
           }
          },
          "shapedefaults": {
           "line": {
            "color": "#2a3f5f"
           }
          },
          "ternary": {
           "aaxis": {
            "gridcolor": "white",
            "linecolor": "white",
            "ticks": ""
           },
           "baxis": {
            "gridcolor": "white",
            "linecolor": "white",
            "ticks": ""
           },
           "bgcolor": "#E5ECF6",
           "caxis": {
            "gridcolor": "white",
            "linecolor": "white",
            "ticks": ""
           }
          },
          "title": {
           "x": 0.05
          },
          "xaxis": {
           "automargin": true,
           "gridcolor": "white",
           "linecolor": "white",
           "ticks": "",
           "title": {
            "standoff": 15
           },
           "zerolinecolor": "white",
           "zerolinewidth": 2
          },
          "yaxis": {
           "automargin": true,
           "gridcolor": "white",
           "linecolor": "white",
           "ticks": "",
           "title": {
            "standoff": 15
           },
           "zerolinecolor": "white",
           "zerolinewidth": 2
          }
         }
        },
        "title": {
         "text": "Comparison by country"
        },
        "updatemenus": [
         {
          "buttons": [
           {
            "args": [
             null,
             {
              "frame": {
               "duration": 500,
               "redraw": true
              },
              "fromcurrent": true,
              "mode": "immediate",
              "transition": {
               "duration": 500,
               "easing": "linear"
              }
             }
            ],
            "label": "&#9654;",
            "method": "animate"
           },
           {
            "args": [
             [
              null
             ],
             {
              "frame": {
               "duration": 0,
               "redraw": true
              },
              "fromcurrent": true,
              "mode": "immediate",
              "transition": {
               "duration": 0,
               "easing": "linear"
              }
             }
            ],
            "label": "&#9724;",
            "method": "animate"
           }
          ],
          "direction": "left",
          "pad": {
           "r": 10,
           "t": 70
          },
          "showactive": false,
          "type": "buttons",
          "x": 0.1,
          "xanchor": "right",
          "y": 0,
          "yanchor": "top"
         }
        ]
       }
      },
      "image/png": "[encoded data removed]",
      "text/html": [
       "<div>\n",
       "        \n",
       "        \n",
       "            <div id=\"bd921687-be5e-46ad-b840-41ecaa5f1170\" class=\"plotly-graph-div\" style=\"height:525px; width:100%;\"></div>\n",
       "            <script type=\"text/javascript\">\n",
       "                require([\"plotly\"], function(Plotly) {\n",
       "                    window.PLOTLYENV=window.PLOTLYENV || {};\n",
       "                    \n",
       "                if (document.getElementById(\"bd921687-be5e-46ad-b840-41ecaa5f1170\")) {\n",
       "                    Plotly.newPlot(\n",
       "                        'bd921687-be5e-46ad-b840-41ecaa5f1170',\n",
       "                        [{\"coloraxis\": \"coloraxis\", \"geo\": \"geo\", \"hovertemplate\": \"year=2008.0<br>country=%{location}<br>counts=%{z}<extra></extra>\", \"locationmode\": \"country names\", \"locations\": [\"United States\"], \"name\": \"\", \"type\": \"choropleth\", \"z\": [2]}],\n",
       "                        {\"coloraxis\": {\"cmax\": 100, \"cmin\": 0, \"colorbar\": {\"title\": {\"text\": \"counts\"}}, \"colorscale\": [[0.0, \"#440154\"], [0.1111111111111111, \"#482878\"], [0.2222222222222222, \"#3e4989\"], [0.3333333333333333, \"#31688e\"], [0.4444444444444444, \"#26828e\"], [0.5555555555555556, \"#1f9e89\"], [0.6666666666666666, \"#35b779\"], [0.7777777777777778, \"#6ece58\"], [0.8888888888888888, \"#b5de2b\"], [1.0, \"#fde725\"]]}, \"geo\": {\"center\": {}, \"domain\": {\"x\": [0.0, 1.0], \"y\": [0.0, 1.0]}}, \"legend\": {\"tracegroupgap\": 0}, \"margin\": {\"t\": 60}, \"sliders\": [{\"active\": 0, \"currentvalue\": {\"prefix\": \"year=\"}, \"len\": 0.9, \"pad\": {\"b\": 10, \"t\": 60}, \"steps\": [{\"args\": [[\"2008.0\"], {\"frame\": {\"duration\": 0, \"redraw\": true}, \"fromcurrent\": true, \"mode\": \"immediate\", \"transition\": {\"duration\": 0, \"easing\": \"linear\"}}], \"label\": \"2008.0\", \"method\": \"animate\"}, {\"args\": [[\"2009.0\"], {\"frame\": {\"duration\": 0, \"redraw\": true}, \"fromcurrent\": true, \"mode\": \"immediate\", \"transition\": {\"duration\": 0, \"easing\": \"linear\"}}], \"label\": \"2009.0\", \"method\": \"animate\"}, {\"args\": [[\"2010.0\"], {\"frame\": {\"duration\": 0, \"redraw\": true}, \"fromcurrent\": true, \"mode\": \"immediate\", \"transition\": {\"duration\": 0, \"easing\": \"linear\"}}], \"label\": \"2010.0\", \"method\": \"animate\"}, {\"args\": [[\"2011.0\"], {\"frame\": {\"duration\": 0, \"redraw\": true}, \"fromcurrent\": true, \"mode\": \"immediate\", \"transition\": {\"duration\": 0, \"easing\": \"linear\"}}], \"label\": \"2011.0\", \"method\": \"animate\"}, {\"args\": [[\"2012.0\"], {\"frame\": {\"duration\": 0, \"redraw\": true}, \"fromcurrent\": true, \"mode\": \"immediate\", \"transition\": {\"duration\": 0, \"easing\": \"linear\"}}], \"label\": \"2012.0\", \"method\": \"animate\"}, {\"args\": [[\"2013.0\"], {\"frame\": {\"duration\": 0, \"redraw\": true}, \"fromcurrent\": true, \"mode\": \"immediate\", \"transition\": {\"duration\": 0, \"easing\": \"linear\"}}], \"label\": \"2013.0\", \"method\": \"animate\"}, {\"args\": [[\"2014.0\"], {\"frame\": {\"duration\": 0, \"redraw\": true}, \"fromcurrent\": true, \"mode\": \"immediate\", \"transition\": {\"duration\": 0, \"easing\": \"linear\"}}], \"label\": \"2014.0\", \"method\": \"animate\"}, {\"args\": [[\"2015.0\"], {\"frame\": {\"duration\": 0, \"redraw\": true}, \"fromcurrent\": true, \"mode\": \"immediate\", \"transition\": {\"duration\": 0, \"easing\": \"linear\"}}], \"label\": \"2015.0\", \"method\": \"animate\"}, {\"args\": [[\"2016.0\"], {\"frame\": {\"duration\": 0, \"redraw\": true}, \"fromcurrent\": true, \"mode\": \"immediate\", \"transition\": {\"duration\": 0, \"easing\": \"linear\"}}], \"label\": \"2016.0\", \"method\": \"animate\"}, {\"args\": [[\"2017.0\"], {\"frame\": {\"duration\": 0, \"redraw\": true}, \"fromcurrent\": true, \"mode\": \"immediate\", \"transition\": {\"duration\": 0, \"easing\": \"linear\"}}], \"label\": \"2017.0\", \"method\": \"animate\"}, {\"args\": [[\"2018.0\"], {\"frame\": {\"duration\": 0, \"redraw\": true}, \"fromcurrent\": true, \"mode\": \"immediate\", \"transition\": {\"duration\": 0, \"easing\": \"linear\"}}], \"label\": \"2018.0\", \"method\": \"animate\"}, {\"args\": [[\"2019.0\"], {\"frame\": {\"duration\": 0, \"redraw\": true}, \"fromcurrent\": true, \"mode\": \"immediate\", \"transition\": {\"duration\": 0, \"easing\": \"linear\"}}], \"label\": \"2019.0\", \"method\": \"animate\"}, {\"args\": [[\"2020.0\"], {\"frame\": {\"duration\": 0, \"redraw\": true}, \"fromcurrent\": true, \"mode\": \"immediate\", \"transition\": {\"duration\": 0, \"easing\": \"linear\"}}], \"label\": \"2020.0\", \"method\": \"animate\"}], \"x\": 0.1, \"xanchor\": \"left\", \"y\": 0, \"yanchor\": \"top\"}], \"template\": {\"data\": {\"bar\": [{\"error_x\": {\"color\": \"#2a3f5f\"}, \"error_y\": {\"color\": \"#2a3f5f\"}, \"marker\": {\"line\": {\"color\": \"#E5ECF6\", \"width\": 0.5}}, \"type\": \"bar\"}], \"barpolar\": [{\"marker\": {\"line\": {\"color\": \"#E5ECF6\", \"width\": 0.5}}, \"type\": \"barpolar\"}], \"carpet\": [{\"aaxis\": {\"endlinecolor\": \"#2a3f5f\", \"gridcolor\": \"white\", \"linecolor\": \"white\", \"minorgridcolor\": \"white\", \"startlinecolor\": \"#2a3f5f\"}, \"baxis\": {\"endlinecolor\": \"#2a3f5f\", \"gridcolor\": \"white\", \"linecolor\": \"white\", \"minorgridcolor\": \"white\", \"startlinecolor\": \"#2a3f5f\"}, \"type\": \"carpet\"}], \"choropleth\": [{\"colorbar\": {\"outlinewidth\": 0, \"ticks\": \"\"}, \"type\": \"choropleth\"}], \"contour\": [{\"colorbar\": {\"outlinewidth\": 0, \"ticks\": \"\"}, \"colorscale\": [[0.0, \"#0d0887\"], [0.1111111111111111, \"#46039f\"], [0.2222222222222222, \"#7201a8\"], [0.3333333333333333, \"#9c179e\"], [0.4444444444444444, \"#bd3786\"], [0.5555555555555556, \"#d8576b\"], [0.6666666666666666, \"#ed7953\"], [0.7777777777777778, \"#fb9f3a\"], [0.8888888888888888, \"#fdca26\"], [1.0, \"#f0f921\"]], \"type\": \"contour\"}], \"contourcarpet\": [{\"colorbar\": {\"outlinewidth\": 0, \"ticks\": \"\"}, \"type\": \"contourcarpet\"}], \"heatmap\": [{\"colorbar\": {\"outlinewidth\": 0, \"ticks\": \"\"}, \"colorscale\": [[0.0, \"#0d0887\"], [0.1111111111111111, \"#46039f\"], [0.2222222222222222, \"#7201a8\"], [0.3333333333333333, \"#9c179e\"], [0.4444444444444444, \"#bd3786\"], [0.5555555555555556, \"#d8576b\"], [0.6666666666666666, \"#ed7953\"], [0.7777777777777778, \"#fb9f3a\"], [0.8888888888888888, \"#fdca26\"], [1.0, \"#f0f921\"]], \"type\": \"heatmap\"}], \"heatmapgl\": [{\"colorbar\": {\"outlinewidth\": 0, \"ticks\": \"\"}, \"colorscale\": [[0.0, \"#0d0887\"], [0.1111111111111111, \"#46039f\"], [0.2222222222222222, \"#7201a8\"], [0.3333333333333333, \"#9c179e\"], [0.4444444444444444, \"#bd3786\"], [0.5555555555555556, \"#d8576b\"], [0.6666666666666666, \"#ed7953\"], [0.7777777777777778, \"#fb9f3a\"], [0.8888888888888888, \"#fdca26\"], [1.0, \"#f0f921\"]], \"type\": \"heatmapgl\"}], \"histogram\": [{\"marker\": {\"colorbar\": {\"outlinewidth\": 0, \"ticks\": \"\"}}, \"type\": \"histogram\"}], \"histogram2d\": [{\"colorbar\": {\"outlinewidth\": 0, \"ticks\": \"\"}, \"colorscale\": [[0.0, \"#0d0887\"], [0.1111111111111111, \"#46039f\"], [0.2222222222222222, \"#7201a8\"], [0.3333333333333333, \"#9c179e\"], [0.4444444444444444, \"#bd3786\"], [0.5555555555555556, \"#d8576b\"], [0.6666666666666666, \"#ed7953\"], [0.7777777777777778, \"#fb9f3a\"], [0.8888888888888888, \"#fdca26\"], [1.0, \"#f0f921\"]], \"type\": \"histogram2d\"}], \"histogram2dcontour\": [{\"colorbar\": {\"outlinewidth\": 0, \"ticks\": \"\"}, \"colorscale\": [[0.0, \"#0d0887\"], [0.1111111111111111, \"#46039f\"], [0.2222222222222222, \"#7201a8\"], [0.3333333333333333, \"#9c179e\"], [0.4444444444444444, \"#bd3786\"], [0.5555555555555556, \"#d8576b\"], [0.6666666666666666, \"#ed7953\"], [0.7777777777777778, \"#fb9f3a\"], [0.8888888888888888, \"#fdca26\"], [1.0, \"#f0f921\"]], \"type\": \"histogram2dcontour\"}], \"mesh3d\": [{\"colorbar\": {\"outlinewidth\": 0, \"ticks\": \"\"}, \"type\": \"mesh3d\"}], \"parcoords\": [{\"line\": {\"colorbar\": {\"outlinewidth\": 0, \"ticks\": \"\"}}, \"type\": \"parcoords\"}], \"pie\": [{\"automargin\": true, \"type\": \"pie\"}], \"scatter\": [{\"marker\": {\"colorbar\": {\"outlinewidth\": 0, \"ticks\": \"\"}}, \"type\": \"scatter\"}], \"scatter3d\": [{\"line\": {\"colorbar\": {\"outlinewidth\": 0, \"ticks\": \"\"}}, \"marker\": {\"colorbar\": {\"outlinewidth\": 0, \"ticks\": \"\"}}, \"type\": \"scatter3d\"}], \"scattercarpet\": [{\"marker\": {\"colorbar\": {\"outlinewidth\": 0, \"ticks\": \"\"}}, \"type\": \"scattercarpet\"}], \"scattergeo\": [{\"marker\": {\"colorbar\": {\"outlinewidth\": 0, \"ticks\": \"\"}}, \"type\": \"scattergeo\"}], \"scattergl\": [{\"marker\": {\"colorbar\": {\"outlinewidth\": 0, \"ticks\": \"\"}}, \"type\": \"scattergl\"}], \"scattermapbox\": [{\"marker\": {\"colorbar\": {\"outlinewidth\": 0, \"ticks\": \"\"}}, \"type\": \"scattermapbox\"}], \"scatterpolar\": [{\"marker\": {\"colorbar\": {\"outlinewidth\": 0, \"ticks\": \"\"}}, \"type\": \"scatterpolar\"}], \"scatterpolargl\": [{\"marker\": {\"colorbar\": {\"outlinewidth\": 0, \"ticks\": \"\"}}, \"type\": \"scatterpolargl\"}], \"scatterternary\": [{\"marker\": {\"colorbar\": {\"outlinewidth\": 0, \"ticks\": \"\"}}, \"type\": \"scatterternary\"}], \"surface\": [{\"colorbar\": {\"outlinewidth\": 0, \"ticks\": \"\"}, \"colorscale\": [[0.0, \"#0d0887\"], [0.1111111111111111, \"#46039f\"], [0.2222222222222222, \"#7201a8\"], [0.3333333333333333, \"#9c179e\"], [0.4444444444444444, \"#bd3786\"], [0.5555555555555556, \"#d8576b\"], [0.6666666666666666, \"#ed7953\"], [0.7777777777777778, \"#fb9f3a\"], [0.8888888888888888, \"#fdca26\"], [1.0, \"#f0f921\"]], \"type\": \"surface\"}], \"table\": [{\"cells\": {\"fill\": {\"color\": \"#EBF0F8\"}, \"line\": {\"color\": \"white\"}}, \"header\": {\"fill\": {\"color\": \"#C8D4E3\"}, \"line\": {\"color\": \"white\"}}, \"type\": \"table\"}]}, \"layout\": {\"annotationdefaults\": {\"arrowcolor\": \"#2a3f5f\", \"arrowhead\": 0, \"arrowwidth\": 1}, \"coloraxis\": {\"colorbar\": {\"outlinewidth\": 0, \"ticks\": \"\"}}, \"colorscale\": {\"diverging\": [[0, \"#8e0152\"], [0.1, \"#c51b7d\"], [0.2, \"#de77ae\"], [0.3, \"#f1b6da\"], [0.4, \"#fde0ef\"], [0.5, \"#f7f7f7\"], [0.6, \"#e6f5d0\"], [0.7, \"#b8e186\"], [0.8, \"#7fbc41\"], [0.9, \"#4d9221\"], [1, \"#276419\"]], \"sequential\": [[0.0, \"#0d0887\"], [0.1111111111111111, \"#46039f\"], [0.2222222222222222, \"#7201a8\"], [0.3333333333333333, \"#9c179e\"], [0.4444444444444444, \"#bd3786\"], [0.5555555555555556, \"#d8576b\"], [0.6666666666666666, \"#ed7953\"], [0.7777777777777778, \"#fb9f3a\"], [0.8888888888888888, \"#fdca26\"], [1.0, \"#f0f921\"]], \"sequentialminus\": [[0.0, \"#0d0887\"], [0.1111111111111111, \"#46039f\"], [0.2222222222222222, \"#7201a8\"], [0.3333333333333333, \"#9c179e\"], [0.4444444444444444, \"#bd3786\"], [0.5555555555555556, \"#d8576b\"], [0.6666666666666666, \"#ed7953\"], [0.7777777777777778, \"#fb9f3a\"], [0.8888888888888888, \"#fdca26\"], [1.0, \"#f0f921\"]]}, \"colorway\": [\"#636efa\", \"#EF553B\", \"#00cc96\", \"#ab63fa\", \"#FFA15A\", \"#19d3f3\", \"#FF6692\", \"#B6E880\", \"#FF97FF\", \"#FECB52\"], \"font\": {\"color\": \"#2a3f5f\"}, \"geo\": {\"bgcolor\": \"white\", \"lakecolor\": \"white\", \"landcolor\": \"#E5ECF6\", \"showlakes\": true, \"showland\": true, \"subunitcolor\": \"white\"}, \"hoverlabel\": {\"align\": \"left\"}, \"hovermode\": \"closest\", \"mapbox\": {\"style\": \"light\"}, \"paper_bgcolor\": \"white\", \"plot_bgcolor\": \"#E5ECF6\", \"polar\": {\"angularaxis\": {\"gridcolor\": \"white\", \"linecolor\": \"white\", \"ticks\": \"\"}, \"bgcolor\": \"#E5ECF6\", \"radialaxis\": {\"gridcolor\": \"white\", \"linecolor\": \"white\", \"ticks\": \"\"}}, \"scene\": {\"xaxis\": {\"backgroundcolor\": \"#E5ECF6\", \"gridcolor\": \"white\", \"gridwidth\": 2, \"linecolor\": \"white\", \"showbackground\": true, \"ticks\": \"\", \"zerolinecolor\": \"white\"}, \"yaxis\": {\"backgroundcolor\": \"#E5ECF6\", \"gridcolor\": \"white\", \"gridwidth\": 2, \"linecolor\": \"white\", \"showbackground\": true, \"ticks\": \"\", \"zerolinecolor\": \"white\"}, \"zaxis\": {\"backgroundcolor\": \"#E5ECF6\", \"gridcolor\": \"white\", \"gridwidth\": 2, \"linecolor\": \"white\", \"showbackground\": true, \"ticks\": \"\", \"zerolinecolor\": \"white\"}}, \"shapedefaults\": {\"line\": {\"color\": \"#2a3f5f\"}}, \"ternary\": {\"aaxis\": {\"gridcolor\": \"white\", \"linecolor\": \"white\", \"ticks\": \"\"}, \"baxis\": {\"gridcolor\": \"white\", \"linecolor\": \"white\", \"ticks\": \"\"}, \"bgcolor\": \"#E5ECF6\", \"caxis\": {\"gridcolor\": \"white\", \"linecolor\": \"white\", \"ticks\": \"\"}}, \"title\": {\"x\": 0.05}, \"xaxis\": {\"automargin\": true, \"gridcolor\": \"white\", \"linecolor\": \"white\", \"ticks\": \"\", \"title\": {\"standoff\": 15}, \"zerolinecolor\": \"white\", \"zerolinewidth\": 2}, \"yaxis\": {\"automargin\": true, \"gridcolor\": \"white\", \"linecolor\": \"white\", \"ticks\": \"\", \"title\": {\"standoff\": 15}, \"zerolinecolor\": \"white\", \"zerolinewidth\": 2}}}, \"title\": {\"text\": \"Comparison by country\"}, \"updatemenus\": [{\"buttons\": [{\"args\": [null, {\"frame\": {\"duration\": 500, \"redraw\": true}, \"fromcurrent\": true, \"mode\": \"immediate\", \"transition\": {\"duration\": 500, \"easing\": \"linear\"}}], \"label\": \"&#9654;\", \"method\": \"animate\"}, {\"args\": [[null], {\"frame\": {\"duration\": 0, \"redraw\": true}, \"fromcurrent\": true, \"mode\": \"immediate\", \"transition\": {\"duration\": 0, \"easing\": \"linear\"}}], \"label\": \"&#9724;\", \"method\": \"animate\"}], \"direction\": \"left\", \"pad\": {\"r\": 10, \"t\": 70}, \"showactive\": false, \"type\": \"buttons\", \"x\": 0.1, \"xanchor\": \"right\", \"y\": 0, \"yanchor\": \"top\"}]},\n",
       "                        {\"responsive\": true}\n",
       "                    ).then(function(){\n",
       "                            Plotly.addFrames('bd921687-be5e-46ad-b840-41ecaa5f1170', [{\"data\": [{\"coloraxis\": \"coloraxis\", \"geo\": \"geo\", \"hovertemplate\": \"year=2008.0<br>country=%{location}<br>counts=%{z}<extra></extra>\", \"locationmode\": \"country names\", \"locations\": [\"United States\"], \"name\": \"\", \"z\": [2], \"type\": \"choropleth\"}], \"name\": \"2008.0\"}, {\"data\": [{\"coloraxis\": \"coloraxis\", \"geo\": \"geo\", \"hovertemplate\": \"year=2009.0<br>country=%{location}<br>counts=%{z}<extra></extra>\", \"locationmode\": \"country names\", \"locations\": [\"Denmark\", \"United States\"], \"name\": \"\", \"z\": [1, 1], \"type\": \"choropleth\"}], \"name\": \"2009.0\"}, {\"data\": [{\"coloraxis\": \"coloraxis\", \"geo\": \"geo\", \"hovertemplate\": \"year=2010.0<br>country=%{location}<br>counts=%{z}<extra></extra>\", \"locationmode\": \"country names\", \"locations\": [\"United States\"], \"name\": \"\", \"z\": [1], \"type\": \"choropleth\"}], \"name\": \"2010.0\"}, {\"data\": [{\"coloraxis\": \"coloraxis\", \"geo\": \"geo\", \"hovertemplate\": \"year=2011.0<br>country=%{location}<br>counts=%{z}<extra></extra>\", \"locationmode\": \"country names\", \"locations\": [\" France\", \"Spain\", \" Mexico\", \"United States\"], \"name\": \"\", \"z\": [1, 1, 1, 12], \"type\": \"choropleth\"}], \"name\": \"2011.0\"}, {\"data\": [{\"coloraxis\": \"coloraxis\", \"geo\": \"geo\", \"hovertemplate\": \"year=2012.0<br>country=%{location}<br>counts=%{z}<extra></extra>\", \"locationmode\": \"country names\", \"locations\": [\" Mexico\", \"United States\"], \"name\": \"\", \"z\": [1, 6], \"type\": \"choropleth\"}], \"name\": \"2012.0\"}, {\"data\": [{\"coloraxis\": \"coloraxis\", \"geo\": \"geo\", \"hovertemplate\": \"year=2013.0<br>country=%{location}<br>counts=%{z}<extra></extra>\", \"locationmode\": \"country names\", \"locations\": [\" Ireland\", \"Canada\", \" United Kingdom\", \"United States\"], \"name\": \"\", \"z\": [1, 1, 1, 11], \"type\": \"choropleth\"}], \"name\": \"2013.0\"}, {\"data\": [{\"coloraxis\": \"coloraxis\", \"geo\": \"geo\", \"hovertemplate\": \"year=2014.0<br>country=%{location}<br>counts=%{z}<extra></extra>\", \"locationmode\": \"country names\", \"locations\": [\" Ireland\", \" Canada\", \" Egypt\", \" Ecuador\", \" United States\", \"Canada\", \" Bermuda\", \"\", \"Norway\", \" Hungary\", \"United States\", \"United Kingdom\"], \"name\": \"\", \"z\": [1, 2, 1, 1, 4, 2, 1, 1, 1, 1, 19, 3], \"type\": \"choropleth\"}], \"name\": \"2014.0\"}, {\"data\": [{\"coloraxis\": \"coloraxis\", \"geo\": \"geo\", \"hovertemplate\": \"year=2015.0<br>country=%{location}<br>counts=%{z}<extra></extra>\", \"locationmode\": \"country names\", \"locations\": [\" Italy\", \"Italy\", \"Nigeria\", \"United States\", \"Canada\", \"New Zealand\", \" Australia\", \" Greece\", \"Belgium\", \"France\", \"Australia\", \" Ireland\", \" New Zealand\", \" Canada\", \"United Kingdom\", \"Mexico\", \" Belgium\", \"Germany\", \" United States\", \" France\", \"Norway\", \" Germany\", \"Japan\", \" United Kingdom\", \" Ukraine\"], \"name\": \"\", \"z\": [3, 1, 1, 57, 6, 1, 2, 1, 1, 5, 3, 2, 1, 1, 6, 1, 2, 2, 4, 4, 1, 1, 1, 4, 1], \"type\": \"choropleth\"}], \"name\": \"2015.0\"}, {\"data\": [{\"coloraxis\": \"coloraxis\", \"geo\": \"geo\", \"hovertemplate\": \"year=2016.0<br>country=%{location}<br>counts=%{z}<extra></extra>\", \"locationmode\": \"country names\", \"locations\": [\" Indonesia\", \" Israel\", \"France\", \"India\", \" India\", \"Germany\", \"Iceland\", \" Hungary\", \"Hong Kong\", \"Belgium\", \" Japan\", \" Russia\", \" Serbia\", \" Qatar\", \" Slovenia\", \" South Africa\", \" South Korea\", \" Spain\", \" Peru\", \" Norway\", \" United Kingdom\", \" New Zealand\", \" United States\", \" Netherlands\", \" Zimbabwe\", \"Argentina\", \" Montenegro\", \"Australia\", \"Austria\", \"Israel\", \"Brazil\", \"Canada\", \" Kazakhstan\", \"Chile\", \" Jordan\", \"China\", \"Colombia\", \"Croatia\", \"Denmark\", \" Hong Kong\", \"Ireland\", \"Italy\", \"United Kingdom\", \" Denmark\", \"Spain\", \"Norway\", \"United Arab Emirates\", \"Pakistan\", \" Cuba\", \"Peru\", \"Nigeria\", \"Poland\", \"Turkey\", \"Russia\", \" China\", \"Taiwan\", \"Switzerland\", \"Sweden\", \" Chile\", \"South Korea\", \" Belgium\", \" Finland\", \" Canada\", \" Australia\", \" Azerbaijan\", \"Netherlands\", \"Japan\", \" France\", \"Mexico\", \" Germany\", \" Greece\", \"United States\"], \"name\": \"\", \"z\": [1, 1, 17, 13, 2, 5, 1, 1, 3, 1, 13, 1, 1, 1, 1, 2, 2, 5, 1, 2, 9, 3, 22, 4, 1, 3, 1, 8, 1, 2, 3, 24, 1, 1, 1, 6, 2, 1, 6, 1, 3, 3, 45, 1, 13, 3, 1, 4, 1, 2, 1, 1, 4, 1, 3, 29, 1, 1, 1, 8, 3, 1, 11, 2, 1, 4, 20, 14, 9, 9, 5, 190], \"type\": \"choropleth\"}], \"name\": \"2016.0\"}, {\"data\": [{\"coloraxis\": \"coloraxis\", \"geo\": \"geo\", \"hovertemplate\": \"year=2017.0<br>country=%{location}<br>counts=%{z}<extra></extra>\", \"locationmode\": \"country names\", \"locations\": [\"Thailand\", \"Taiwan\", \" Slovakia\", \"Switzerland\", \"Argentina\", \" Venezuela\", \" Singapore\", \"Venezuela\", \"Sweden\", \"Vietnam\", \"Australia\", \" Uruguay\", \" United States\", \" Sri Lanka\", \"Turkey\", \" Sweden\", \"Ukraine\", \" South Africa\", \"United Arab Emirates\", \"United States\", \" South Korea\", \" United Kingdom\", \" Soviet Union\", \"United Kingdom\", \" Spain\", \" Thailand\", \" Switzerland\", \"Uruguay\", \" United Arab Emirates\", \"Brazil\", \"Austria\", \"France\", \"New Zealand\", \"Netherlands\", \"Georgia\", \"Germany\", \"Mexico\", \"Hong Kong\", \"Nigeria\", \"Malaysia\", \"Iceland\", \"India\", \"Indonesia\", \"Ireland\", \" Senegal\", \"Israel\", \"Japan\", \"Lebanon\", \"Finland\", \"Denmark\", \"Norway\", \"Belgium\", \"South Korea\", \"South Africa\", \"Italy\", \"Slovenia\", \"Bulgaria\", \"Cambodia\", \"Canada\", \"Singapore\", \"Saudi Arabia\", \"Chile\", \"Russia\", \"Portugal\", \"China\", \"Colombia\", \"Pakistan\", \"Czech Republic\", \"Spain\", \" Samoa\", \"West Germany\", \" Latvia\", \" Armenia\", \" Netherlands\", \" Hong Kong\", \" Peru\", \" Croatia\", \" Czech Republic\", \" Panama\", \" Iran\", \" Colombia\", \" Iceland\", \" Australia\", \" Brazil\", \" Mongolia\", \" Italy\", \" India\", \" Austria\", \" New Zealand\", \" Norway\", \" Bulgaria\", \" Mexico\", \" Nicaragua\", \" Japan\", \" Belgium\", \" Malaysia\", \" Qatar\", \" Lebanon\", \" Russia\", \" France\", \" Ireland\", \" Romania\", \" Botswana\", \" Israel\", \" Nepal\", \" Philippines\", \" Chile\", \" China\", \" Morocco\", \" Afghanistan\", \" Germany\", \" Jordan\", \" Denmark\", \" Poland\", \" Greece\", \" Argentina\", \" Canada\"], \"name\": \"\", \"z\": [2, 11, 1, 1, 11, 1, 2, 1, 4, 1, 24, 4, 61, 1, 44, 7, 1, 4, 2, 425, 2, 17, 2, 123, 11, 1, 4, 1, 2, 15, 1, 34, 2, 4, 1, 17, 30, 2, 1, 7, 1, 192, 2, 4, 1, 5, 39, 1, 1, 2, 5, 5, 44, 1, 12, 1, 1, 1, 53, 9, 1, 8, 6, 1, 19, 4, 5, 2, 33, 1, 1, 1, 1, 4, 6, 1, 1, 2, 1, 1, 2, 1, 6, 2, 1, 6, 10, 1, 2, 1, 1, 6, 1, 7, 18, 1, 4, 1, 2, 24, 3, 1, 1, 2, 1, 1, 1, 6, 1, 1, 16, 3, 3, 1, 1, 6, 19], \"type\": \"choropleth\"}], \"name\": \"2017.0\"}, {\"data\": [{\"coloraxis\": \"coloraxis\", \"geo\": \"geo\", \"hovertemplate\": \"year=2018.0<br>country=%{location}<br>counts=%{z}<extra></extra>\", \"locationmode\": \"country names\", \"locations\": [\" Israel\", \"Finland\", \"France\", \" Colombia\", \"Denmark\", \"Egypt\", \" Kenya\", \"Chile\", \" Chile\", \"South Korea\", \"China\", \" Jordan\", \"Colombia\", \" Japan\", \"South Africa\", \"Somalia\", \"Czech Republic\", \"Singapore\", \" Italy\", \" China\", \"Serbia\", \"Saudi Arabia\", \"Russia\", \" Russia\", \"Georgia\", \" Czech Republic\", \"Italy\", \" Hong Kong\", \" Denmark\", \"Japan\", \" Greece\", \"Norway\", \"Pakistan\", \"Lebanon\", \" Germany\", \"Malaysia\", \" Egypt\", \"Nigeria\", \"Mexico\", \" Finland\", \" France\", \" Dominican Republic\", \" Ireland\", \"Israel\", \"Ireland\", \"Germany\", \"Portugal\", \" Iraq\", \"Guatemala\", \"Hong Kong\", \" Iran\", \" Kuwait\", \" Iceland\", \" Indonesia\", \"Iceland\", \"India\", \"Philippines\", \" India\", \"Indonesia\", \"Peru\", \" Croatia\", \"Poland\", \"Hungary\", \"Canada\", \" Lebanon\", \" Syria\", \" Taiwan\", \"United States\", \" Turkey\", \" Uganda\", \" Austria\", \" United Arab Emirates\", \" Bangladesh\", \" United Kingdom\", \"United Kingdom\", \"Soviet Union\", \" United States\", \" Belgium\", \"United Arab Emirates\", \" Netherlands\", \" Australia\", \" Switzerland\", \" Sweden\", \" Sudan\", \"\", \" Serbia\", \"Vietnam\", \"Venezuela\", \" Singapore\", \" Qatar\", \" Slovenia\", \"Ukraine\", \" South Africa\", \" South Korea\", \"Uruguay\", \" Albania\", \" Poland\", \" Argentina\", \" Spain\", \" Peru\", \" Portugal\", \" Namibia\", \" New Zealand\", \" West Germany\", \"New Zealand\", \"Spain\", \"Cambodia\", \" Cayman Islands\", \" Luxembourg\", \"Bulgaria\", \"Brazil\", \"Sweden\", \" Canada\", \"Switzerland\", \" Brazil\", \"Belgium\", \" Bulgaria\", \" Mexico\", \"Taiwan\", \"Netherlands\", \"Argentina\", \"Turkey\", \"Australia\", \" Zimbabwe\", \"Thailand\", \" Morocco\"], \"name\": \"\", \"z\": [3, 1, 36, 3, 7, 2, 1, 7, 2, 30, 27, 1, 13, 7, 5, 1, 3, 7, 6, 15, 2, 1, 6, 1, 1, 2, 10, 7, 4, 49, 1, 4, 5, 1, 19, 3, 1, 2, 25, 1, 33, 1, 2, 7, 12, 17, 1, 1, 1, 50, 2, 1, 1, 3, 1, 353, 5, 10, 26, 2, 1, 4, 2, 50, 1, 1, 1, 540, 1, 1, 1, 4, 1, 32, 126, 1, 101, 12, 3, 6, 8, 2, 7, 1, 1, 1, 2, 1, 1, 1, 1, 1, 8, 5, 2, 1, 5, 3, 9, 1, 1, 1, 3, 1, 4, 37, 1, 1, 3, 3, 18, 3, 35, 3, 4, 2, 1, 9, 8, 4, 24, 13, 32, 1, 35, 4], \"type\": \"choropleth\"}], \"name\": \"2018.0\"}, {\"data\": [{\"coloraxis\": \"coloraxis\", \"geo\": \"geo\", \"hovertemplate\": \"year=2019.0<br>country=%{location}<br>counts=%{z}<extra></extra>\", \"locationmode\": \"country names\", \"locations\": [\"Philippines\", \"South Africa\", \" Chile\", \" Denmark\", \" Canada\", \"Uruguay\", \"South Korea\", \"Turkey\", \" Colombia\", \"Nigeria\", \"United Arab Emirates\", \" Finland\", \"Spain\", \"New Zealand\", \"Romania\", \"\", \"Sweden\", \"Norway\", \" Belgium\", \"Thailand\", \"Peru\", \"Poland\", \"Taiwan\", \"United States\", \"Paraguay\", \" Austria\", \" Bulgaria\", \" Cambodia\", \" Czech Republic\", \"United Kingdom\", \" Australia\", \"Pakistan\", \"Singapore\", \" China\", \" Brazil\", \" Argentina\", \"Russia\", \"Switzerland\", \"Iceland\", \" France\", \" Vatican City\", \"Vietnam\", \" Morocco\", \"Argentina\", \"Australia\", \"Austria\", \" Mexico\", \"Bangladesh\", \" Malta\", \"Belgium\", \" Malaysia\", \"Brazil\", \" Malawi\", \"Bulgaria\", \" Luxembourg\", \" Liechtenstein\", \"Chile\", \" Jordan\", \"China\", \" Uruguay\", \"Colombia\", \" Nepal\", \" United States\", \" Senegal\", \" Serbia\", \" Singapore\", \" Portugal\", \" South Africa\", \" South Korea\", \" Poland\", \" Spain\", \" Peru\", \" Sweden\", \" Switzerland\", \" Taiwan\", \" Thailand\", \" Pakistan\", \" Turkey\", \" United Arab Emirates\", \" Norway\", \" United Kingdom\", \" New Zealand\", \" Netherlands\", \"Croatia\", \"Canada\", \" Japan\", \"Ghana\", \"Hong Kong\", \" Russia\", \"Cyprus\", \" India\", \"Indonesia\", \"Iran\", \"Ireland\", \"Israel\", \" Hungary\", \"Italy\", \" Hong Kong\", \"Japan\", \"Lebanon\", \"Malaysia\", \"Mauritius\", \"Mexico\", \" Germany\", \"Netherlands\", \" Iraq\", \"Germany\", \"India\", \" West Germany\", \"Finland\", \" Italy\", \"Denmark\", \" Ireland\", \"France\", \"Dominican Republic\", \"Egypt\"], \"name\": \"\", \"z\": [41, 5, 1, 2, 34, 1, 62, 22, 2, 31, 4, 2, 53, 3, 5, 1, 4, 2, 16, 16, 1, 11, 23, 920, 1, 2, 1, 1, 6, 165, 12, 7, 3, 19, 3, 3, 2, 2, 1, 41, 1, 1, 1, 18, 25, 3, 11, 2, 2, 5, 1, 20, 1, 1, 4, 1, 2, 1, 24, 1, 10, 1, 101, 1, 1, 7, 1, 4, 5, 4, 13, 1, 7, 2, 2, 2, 2, 3, 5, 2, 44, 2, 4, 1, 66, 16, 2, 18, 1, 1, 6, 18, 1, 3, 6, 1, 14, 9, 69, 5, 8, 1, 31, 30, 6, 1, 21, 243, 2, 3, 9, 12, 2, 54, 1, 50], \"type\": \"choropleth\"}], \"name\": \"2019.0\"}, {\"data\": [{\"coloraxis\": \"coloraxis\", \"geo\": \"geo\", \"hovertemplate\": \"year=2020.0<br>country=%{location}<br>counts=%{z}<extra></extra>\", \"locationmode\": \"country names\", \"locations\": [\" Taiwan\", \" Australia\", \"United States\", \"Japan\", \" Germany\", \" Spain\", \" East Germany\", \" South Korea\", \"China\", \"South Africa\", \" France\", \" Singapore\", \"New Zealand\", \"Mexico\", \" Japan\", \" Italy\", \"South Korea\", \"France\", \" Malaysia\", \"Germany\", \"Austria\", \"Belgium\", \"Poland\", \"Australia\", \" Mexico\", \" India\", \" West Germany\", \"Canada\", \"Brazil\", \"India\", \"Spain\", \" United States\", \"Indonesia\", \" Canada\", \" United Kingdom\", \"Netherlands\", \"United Kingdom\", \"Russia\", \" Hong Kong\"], \"name\": \"\", \"z\": [1, 2, 112, 5, 11, 1, 1, 2, 1, 1, 7, 1, 2, 3, 4, 3, 2, 1, 1, 3, 1, 1, 1, 1, 2, 2, 1, 4, 1, 7, 2, 15, 2, 10, 12, 1, 14, 1, 1], \"type\": \"choropleth\"}], \"name\": \"2020.0\"}]);\n",
       "                        }).then(function(){\n",
       "                            \n",
       "var gd = document.getElementById('bd921687-be5e-46ad-b840-41ecaa5f1170');\n",
       "var x = new MutationObserver(function (mutations, observer) {{\n",
       "        var display = window.getComputedStyle(gd).display;\n",
       "        if (!display || display === 'none') {{\n",
       "            console.log([gd, 'removed!']);\n",
       "            Plotly.purge(gd);\n",
       "            observer.disconnect();\n",
       "        }}\n",
       "}});\n",
       "\n",
       "// Listen for the removal of the full notebook cells\n",
       "var notebookContainer = gd.closest('#notebook-container');\n",
       "if (notebookContainer) {{\n",
       "    x.observe(notebookContainer, {childList: true});\n",
       "}}\n",
       "\n",
       "// Listen for the clearing of the current output cell\n",
       "var outputEl = gd.closest('.output');\n",
       "if (outputEl) {{\n",
       "    x.observe(outputEl, {childList: true});\n",
       "}}\n",
       "\n",
       "                        })\n",
       "                };\n",
       "                });\n",
       "            </script>\n",
       "        </div>"
      ]
     },
     "metadata": {},
     "output_type": "display_data"
    }
   ],
   "source": [
    "import plotly.express as px\n",
    "year_country2 = c.groupby('country')['year'].value_counts().reset_index(name='counts')\n",
    "#print(year_country2)\n",
    "year_country2= year_country2.sort_values('year')\n",
    "\n",
    "fig = px.choropleth(year_country2, locations=\"country\", color=\"counts\", \n",
    "                    locationmode='country names',\n",
    "                    animation_frame='year',\n",
    "                    range_color=[0,100],\n",
    "                    color_continuous_scale=px.colors.sequential.Viridis\n",
    "                   )\n",
    "\n",
    "fig.update_layout(title='Comparison by country')\n",
    "fig.show()\n"
   ]
  },
  {
   "cell_type": "code",
   "execution_count": 32,
   "metadata": {},
   "outputs": [
    {
     "name": "stdout",
     "output_type": "stream",
     "text": [
      "[('United States', 2609), ('India', 838), ('United Kingdom', 601), ('Canada', 318), ('France', 271), ('Japan', 231), ('Spain', 178), ('South Korea', 162), ('Germany', 151), ('Mexico', 129)]\n",
      "                0       1       2      3\n",
      "0          Mexico   129.0    84.0   45.0\n",
      "1         Germany   156.0   129.0   27.0\n",
      "2     South Korea   162.0    46.0  116.0\n",
      "3           Spain   178.0   133.0   45.0\n",
      "4           Japan   231.0    75.0  156.0\n",
      "5          France   271.0   201.0   70.0\n",
      "6          Canada   318.0   211.0  107.0\n",
      "7  United Kingdom   602.0   379.0  223.0\n",
      "8           India   838.0   783.0   55.0\n",
      "9   United States  2610.0  1924.0  686.0\n"
     ]
    }
   ],
   "source": [
    "df2 = df[df['country'].notna()]\n",
    "\n",
    "col='country'\n",
    "#categories = \", \".join(top[col]).split(\", \")\n",
    "t_categories = \", \".join(df2[col]).split(\", \")\n",
    "\n",
    "counter_list = Counter(t_categories).most_common(10)\n",
    "print(counter_list)\n",
    "labels = [_[0] for _ in counter_list][::-1]\n",
    "values = [_[1] for _ in counter_list][::-1]\n",
    "top_countries=pd.DataFrame()\n",
    "#top_countries['genre']=pd.Series(labels)\n",
    "#top_countries['count']=pd.Series(values)\n",
    "#top_countries\n",
    "\n",
    "for i in labels: \n",
    "    m=len(df[(df[\"country\"].str.contains(i)) & (df[\"type\"]==\"Movie\")])\n",
    "    tv=len(df[(df[\"country\"].str.contains(i)) & (df[\"type\"]==\"TV Show\")])\n",
    "    top_countries=top_countries.append(pd.Series([i,m+tv,m,tv]),ignore_index=True)\n",
    "print(top_countries)"
   ]
  },
  {
   "cell_type": "code",
   "execution_count": 33,
   "metadata": {},
   "outputs": [
    {
     "data": {
      "text/plain": [
       "<Figure size 720x720 with 0 Axes>"
      ]
     },
     "metadata": {},
     "output_type": "display_data"
    },
    {
     "data": {
      "image/png": "[encoded data removed]",
      "text/plain": [
       "<Figure size 1080x720 with 1 Axes>"
      ]
     },
     "metadata": {},
     "output_type": "display_data"
    }
   ],
   "source": [
    "\n",
    "\n",
    "from pylab import rcParams\n",
    "rcParams['figure.figsize'] = 15, 10\n",
    "\n",
    "x = np.arange(len(labels))  # the label locations\n",
    "width = 0.35  # the width of the bars\n",
    "\n",
    "plt.figure(figsize=(10,10))\n",
    "\n",
    "fig, ax = plt.subplots()\n",
    "rects1 = ax.bar(x - width/2, top_countries[2], width, label='M',align='edge')\n",
    "rects2 = ax.bar(x + width/2, top_countries[3], width, label='TV',align='edge')\n",
    "\n",
    "# Add some text for labels, title and custom x-axis tick labels, etc.\n",
    "ax.set_ylabel('count')\n",
    "ax.set_title('Number of titles grouped by type (Movie or TV Show)')\n",
    "ax.set_xticks(x)\n",
    "ax.set_xticklabels(labels, rotation=40, ha=\"right\")\n",
    "\n",
    "#ax.set_xticklabels(labels)\n",
    "ax.legend()\n",
    "\n",
    "\n",
    "def autolabel(rects):\n",
    "    \"\"\"Attach a text label above each bar in *rects*, displaying its height.\"\"\"\n",
    "    for rect in rects:\n",
    "        height = rect.get_height()\n",
    "        ax.annotate('{}'.format(height),\n",
    "                    xy=(rect.get_x() + rect.get_width() / 2, height),\n",
    "                    xytext=(0, 3),  # 3 points vertical offset\n",
    "                    textcoords=\"offset points\",\n",
    "                    ha='center', va='bottom')\n",
    "\n",
    "\n",
    "autolabel(rects1)\n",
    "autolabel(rects2)\n",
    "\n",
    "#fig.tight_layout()\n",
    "\n",
    "plt.show()"
   ]
  },
  {
   "cell_type": "markdown",
   "metadata": {},
   "source": [
    "# Revenue and subscriber count from different countries"
   ]
  },
  {
   "cell_type": "code",
   "execution_count": 34,
   "metadata": {},
   "outputs": [],
   "source": [
    "\n",
    "pop = pd.read_csv(\"../Netflix data analysis/data/Netflix Subscribers.csv\")\n"
   ]
  },
  {
   "cell_type": "code",
   "execution_count": 35,
   "metadata": {},
   "outputs": [],
   "source": [
    "pop.drop(columns=['Unnamed: 5','Source', 'Unnamed: 7','Average Monthly Revenue per Paying Membership'],inplace=True)\n",
    "pop['# of Subscribers']=pop['# of Subscribers'].str.replace(',', '').astype(int)\n",
    "cols=pop.columns.drop(['Country ', '# of Subscribers'])\n",
    "for c in cols:\n",
    "    pop[c]=pop[c].str.replace('$', '')\n",
    "    pop[c]=pop[c].str.replace(',', '').astype(float)\n"
   ]
  },
  {
   "cell_type": "code",
   "execution_count": 36,
   "metadata": {},
   "outputs": [
    {
     "data": {
      "text/html": [
       "<div>\n",
       "<style scoped>\n",
       "    .dataframe tbody tr th:only-of-type {\n",
       "        vertical-align: middle;\n",
       "    }\n",
       "\n",
       "    .dataframe tbody tr th {\n",
       "        vertical-align: top;\n",
       "    }\n",
       "\n",
       "    .dataframe thead th {\n",
       "        text-align: right;\n",
       "    }\n",
       "</style>\n",
       "<table border=\"1\" class=\"dataframe\">\n",
       "  <thead>\n",
       "    <tr style=\"text-align: right;\">\n",
       "      <th></th>\n",
       "      <th>Country</th>\n",
       "      <th># of Subscribers</th>\n",
       "      <th>Total Monthly Revenue from Paid Memberships</th>\n",
       "      <th>Total Yearly Revenue from Paid Memberships (2018)</th>\n",
       "    </tr>\n",
       "  </thead>\n",
       "  <tbody>\n",
       "    <tr>\n",
       "      <td>0</td>\n",
       "      <td>United States</td>\n",
       "      <td>58486000</td>\n",
       "      <td>6.667404e+08</td>\n",
       "      <td>7.646647e+09</td>\n",
       "    </tr>\n",
       "    <tr>\n",
       "      <td>1</td>\n",
       "      <td>Australia</td>\n",
       "      <td>11262000</td>\n",
       "      <td>1.062007e+08</td>\n",
       "      <td>1.274408e+09</td>\n",
       "    </tr>\n",
       "    <tr>\n",
       "      <td>2</td>\n",
       "      <td>United Kingdom</td>\n",
       "      <td>9780000</td>\n",
       "      <td>9.222540e+07</td>\n",
       "      <td>1.106705e+09</td>\n",
       "    </tr>\n",
       "    <tr>\n",
       "      <td>3</td>\n",
       "      <td>Brazil</td>\n",
       "      <td>8500000</td>\n",
       "      <td>8.015500e+07</td>\n",
       "      <td>9.618600e+08</td>\n",
       "    </tr>\n",
       "    <tr>\n",
       "      <td>4</td>\n",
       "      <td>Canada</td>\n",
       "      <td>6300000</td>\n",
       "      <td>5.940900e+07</td>\n",
       "      <td>7.129080e+08</td>\n",
       "    </tr>\n",
       "    <tr>\n",
       "      <td>5</td>\n",
       "      <td>Germany</td>\n",
       "      <td>5100000</td>\n",
       "      <td>4.809300e+07</td>\n",
       "      <td>5.771160e+08</td>\n",
       "    </tr>\n",
       "    <tr>\n",
       "      <td>6</td>\n",
       "      <td>France</td>\n",
       "      <td>5000000</td>\n",
       "      <td>4.715000e+07</td>\n",
       "      <td>5.658000e+08</td>\n",
       "    </tr>\n",
       "    <tr>\n",
       "      <td>7</td>\n",
       "      <td>Spain</td>\n",
       "      <td>4000000</td>\n",
       "      <td>3.772000e+07</td>\n",
       "      <td>4.526400e+08</td>\n",
       "    </tr>\n",
       "    <tr>\n",
       "      <td>8</td>\n",
       "      <td>Japan</td>\n",
       "      <td>3274276</td>\n",
       "      <td>3.087642e+07</td>\n",
       "      <td>3.705171e+08</td>\n",
       "    </tr>\n",
       "    <tr>\n",
       "      <td>9</td>\n",
       "      <td>Netherlands</td>\n",
       "      <td>2940000</td>\n",
       "      <td>2.772420e+07</td>\n",
       "      <td>3.326904e+08</td>\n",
       "    </tr>\n",
       "  </tbody>\n",
       "</table>\n",
       "</div>"
      ],
      "text/plain": [
       "         Country   # of Subscribers  \\\n",
       "0   United States          58486000   \n",
       "1       Australia          11262000   \n",
       "2  United Kingdom           9780000   \n",
       "3          Brazil           8500000   \n",
       "4          Canada           6300000   \n",
       "5         Germany           5100000   \n",
       "6          France           5000000   \n",
       "7           Spain           4000000   \n",
       "8           Japan           3274276   \n",
       "9     Netherlands           2940000   \n",
       "\n",
       "   Total Monthly Revenue from Paid Memberships   \\\n",
       "0                                  6.667404e+08   \n",
       "1                                  1.062007e+08   \n",
       "2                                  9.222540e+07   \n",
       "3                                  8.015500e+07   \n",
       "4                                  5.940900e+07   \n",
       "5                                  4.809300e+07   \n",
       "6                                  4.715000e+07   \n",
       "7                                  3.772000e+07   \n",
       "8                                  3.087642e+07   \n",
       "9                                  2.772420e+07   \n",
       "\n",
       "   Total Yearly Revenue from Paid Memberships (2018)   \n",
       "0                                       7.646647e+09   \n",
       "1                                       1.274408e+09   \n",
       "2                                       1.106705e+09   \n",
       "3                                       9.618600e+08   \n",
       "4                                       7.129080e+08   \n",
       "5                                       5.771160e+08   \n",
       "6                                       5.658000e+08   \n",
       "7                                       4.526400e+08   \n",
       "8                                       3.705171e+08   \n",
       "9                                       3.326904e+08   "
      ]
     },
     "execution_count": 36,
     "metadata": {},
     "output_type": "execute_result"
    }
   ],
   "source": [
    "pop.head(10)"
   ]
  },
  {
   "cell_type": "code",
   "execution_count": 37,
   "metadata": {},
   "outputs": [
    {
     "data": {
      "image/png": "[encoded data removed]",
      "text/plain": [
       "<Figure size 720x720 with 1 Axes>"
      ]
     },
     "metadata": {},
     "output_type": "display_data"
    }
   ],
   "source": [
    "plt.figure(figsize=(10,10))\n",
    "plt.title(\"Number of Subscribers Vs. Country (Excluding USA)\")\n",
    "plt.xlabel(\"Country\")\n",
    "plt.ylabel(\"Number of subcribers\")\n",
    "ax=sns.barplot(x=\"Country \",y=\"# of Subscribers\",data=pop[1:21])\n",
    "ax.set_xticklabels(ax.get_xticklabels(), rotation=40, ha=\"right\")\n",
    "plt.show()"
   ]
  },
  {
   "cell_type": "code",
   "execution_count": 38,
   "metadata": {},
   "outputs": [
    {
     "data": {
      "image/png": "[encoded data removed]",
      "text/plain": [
       "<Figure size 720x720 with 1 Axes>"
      ]
     },
     "metadata": {},
     "output_type": "display_data"
    }
   ],
   "source": [
    "plt.figure(figsize=(10,10))\n",
    "plt.title(\"Number of Subscribers Vs. Country\")\n",
    "plt.xlabel(\"Country\")\n",
    "plt.ylabel(\"Number of subcribers\")\n",
    "ax=sns.barplot(x=\"Country \",y=\"# of Subscribers\",data=pop[0:20])\n",
    "ax.set_xticklabels(ax.get_xticklabels(), rotation=40, ha=\"right\")\n",
    "plt.show()"
   ]
  },
  {
   "cell_type": "code",
   "execution_count": 39,
   "metadata": {},
   "outputs": [
    {
     "data": {
      "image/png": "[encoded data removed]",
      "text/plain": [
       "<Figure size 720x720 with 1 Axes>"
      ]
     },
     "metadata": {},
     "output_type": "display_data"
    }
   ],
   "source": [
    "plt.figure(figsize=(10,10))\n",
    "plt.title(\"Total Yearly Revenue from Paid Memberships (2018) Vs. Country\")\n",
    "plt.xlabel(\"Country\")\n",
    "plt.ylabel(\"Total Yearly Revenue from Paid Memberships (2018)\")\n",
    "ax=sns.barplot(x=\"Country \",y=\"Total Yearly Revenue from Paid Memberships (2018) \",data=pop[0:20])\n",
    "ax.set_xticklabels(ax.get_xticklabels(), rotation=40, ha=\"right\")\n",
    "plt.show()"
   ]
  },
  {
   "cell_type": "markdown",
   "metadata": {},
   "source": [
    "## IMDB DATA"
   ]
  },
  {
   "cell_type": "code",
   "execution_count": 40,
   "metadata": {},
   "outputs": [],
   "source": [
    "imdb_titles=pd.read_csv('../Netflix data analysis/data/IMDb movies.csv',)\n",
    "imdb_ratings=pd.read_csv('../Netflix data analysis/data/IMDb ratings.csv',usecols=['weighted_average_vote'])\n",
    "ratings = pd.DataFrame({'title':imdb_titles.title,\n",
    "                        'Rating': imdb_ratings.weighted_average_vote}\n",
    "                    )\n",
    "ratings.drop_duplicates(subset=['title','Rating'], inplace=True)\n",
    "ratings.head()\n",
    "\n",
    "ratings=ratings.set_index(\"title\")"
   ]
  },
  {
   "cell_type": "code",
   "execution_count": 41,
   "metadata": {},
   "outputs": [],
   "source": [
    "df1=df.join(ratings,on=[\"title\"])\n",
    "df1 = df1[df1['country'].notna()]\n",
    "df1 = df1[df1['Rating'].notna()]\n",
    "#df1=df1[(df1[\"type\"]== \"Movie\")]"
   ]
  },
  {
   "cell_type": "code",
   "execution_count": 42,
   "metadata": {},
   "outputs": [],
   "source": [
    "df1=df1.sort_values(by='Rating', ascending=False)\n",
    "\n",
    "\n",
    "\n",
    "number=int(0.1*len(df1))\n",
    "top=df1[0:number*2] #top 20% of the movies with best ratings\n"
   ]
  },
  {
   "cell_type": "code",
   "execution_count": 43,
   "metadata": {},
   "outputs": [],
   "source": [
    "categories = \", \".join(top['country']).split(\", \")\n",
    "counter_list = Counter(categories).most_common(20)\n",
    "#print(counter_list)\n",
    "labels = [_[0] for _ in counter_list][::-1]\n",
    "values = [_[1] for _ in counter_list][::-1]\n",
    "top_countries=pd.DataFrame(columns=['country','count'])\n",
    "top_countries['country']=pd.Series(labels)\n",
    "top_countries['count']=pd.Series(values)\n",
    "#top_countries"
   ]
  },
  {
   "cell_type": "code",
   "execution_count": 44,
   "metadata": {},
   "outputs": [
    {
     "data": {
      "image/png": "[encoded data removed]",
      "text/plain": [
       "<Figure size 720x720 with 1 Axes>"
      ]
     },
     "metadata": {},
     "output_type": "display_data"
    }
   ],
   "source": [
    "plt.figure(figsize=(10,10))\n",
    "plt.title(\"Which country are the most movies from?\")\n",
    "plt.xlabel(\"Country\")\n",
    "plt.ylabel(\"Number of movies\")\n",
    "ax=sns.barplot(y=\"count\",x=\"country\",data=top_countries.sort_values(by='count',ascending=False)) \n",
    "ax.set_xticklabels(ax.get_xticklabels(), rotation=40, ha=\"right\")\n",
    "plt.show()"
   ]
  },
  {
   "cell_type": "markdown",
   "metadata": {},
   "source": [
    "How many of the countries with highest number of subscribers also have most ocntent on netflix?"
   ]
  },
  {
   "cell_type": "code",
   "execution_count": 45,
   "metadata": {},
   "outputs": [],
   "source": [
    "x=set(top_countries['country']) #countries with most content\n",
    "y=set(pop[0:20]['Country ']) #countries with top rated movies\n",
    "z=x.intersection(y)"
   ]
  },
  {
   "cell_type": "code",
   "execution_count": 46,
   "metadata": {},
   "outputs": [
    {
     "data": {
      "text/plain": [
       "14"
      ]
     },
     "execution_count": 46,
     "metadata": {},
     "output_type": "execute_result"
    }
   ],
   "source": [
    "len(z)"
   ]
  },
  {
   "cell_type": "code",
   "execution_count": 47,
   "metadata": {},
   "outputs": [
    {
     "data": {
      "text/plain": [
       "{'Australia',\n",
       " 'Brazil',\n",
       " 'Canada',\n",
       " 'France',\n",
       " 'Germany',\n",
       " 'India',\n",
       " 'Italy',\n",
       " 'Japan',\n",
       " 'Mexico',\n",
       " 'New Zealand',\n",
       " 'South Korea',\n",
       " 'Spain',\n",
       " 'United Kingdom',\n",
       " 'United States'}"
      ]
     },
     "execution_count": 47,
     "metadata": {},
     "output_type": "execute_result"
    }
   ],
   "source": [
    "z"
   ]
  },
  {
   "cell_type": "code",
   "execution_count": null,
   "metadata": {},
   "outputs": [],
   "source": []
  }
 ],
 "metadata": {
  "kernelspec": {
   "display_name": "Python 3 (ipykernel)",
   "language": "python",
   "name": "python3"
  },
  "language_info": {
   "codemirror_mode": {
    "name": "ipython",
    "version": 3
   },
   "file_extension": ".py",
   "mimetype": "text/x-python",
   "name": "python",
   "nbconvert_exporter": "python",
   "pygments_lexer": "ipython3",
   "version": "3.12.4"
  }
 },
 "nbformat": 4,
 "nbformat_minor": 4
}
